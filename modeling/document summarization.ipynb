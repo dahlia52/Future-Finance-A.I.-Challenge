{
  "cells": [
    {
      "cell_type": "markdown",
      "source": [
        "# 문서 요약\n",
        "\n",
        "- 문서 길이가 길므로 gensim 라이브러리를 이용하여 추출 요약\n",
        "\n",
        "- 추출 요약된 문장을 기준으로 문단 구성\n",
        "\n",
        "- KoBART를 이용하여 문단 별 추상 요약"
      ],
      "metadata": {
        "id": "ZM1ymrWfMmBR"
      },
      "id": "ZM1ymrWfMmBR"
    },
    {
      "cell_type": "markdown",
      "source": [
        "## 라이브러리 다운로드"
      ],
      "metadata": {
        "id": "0so3WkRuL8lL"
      },
      "id": "0so3WkRuL8lL"
    },
    {
      "cell_type": "code",
      "execution_count": null,
      "id": "c47ac831",
      "metadata": {
        "id": "c47ac831",
        "outputId": "8dc924d4-b585-445d-b89f-48e4cd96c370"
      },
      "outputs": [
        {
          "name": "stdout",
          "output_type": "stream",
          "text": [
            "Collecting gensim==3.8.0\n",
            "  Downloading gensim-3.8.0.tar.gz (23.4 MB)\n",
            "Requirement already satisfied: numpy>=1.11.3 in c:\\programdata\\anaconda3\\lib\\site-packages (from gensim==3.8.0) (1.20.1)\n",
            "Requirement already satisfied: scipy>=0.18.1 in c:\\programdata\\anaconda3\\lib\\site-packages (from gensim==3.8.0) (1.6.2)\n",
            "Requirement already satisfied: six>=1.5.0 in c:\\programdata\\anaconda3\\lib\\site-packages (from gensim==3.8.0) (1.15.0)\n",
            "Collecting smart_open>=1.7.0\n",
            "  Downloading smart_open-6.3.0-py3-none-any.whl (56 kB)\n",
            "Building wheels for collected packages: gensim\n",
            "  Building wheel for gensim (setup.py): started\n",
            "  Building wheel for gensim (setup.py): still running...\n",
            "  Building wheel for gensim (setup.py): finished with status 'done'\n",
            "  Created wheel for gensim: filename=gensim-3.8.0-cp38-cp38-win_amd64.whl size=24204284 sha256=848195dd214cc79a2adcfbbe3e9caf3dba25a0f24bd49fce90f60f452d253423\n",
            "  Stored in directory: c:\\users\\jjh\\appdata\\local\\pip\\cache\\wheels\\09\\d1\\44\\6d6dcb820e282b40ccfce6d2bb0101c24d7fffd863b2276783\n",
            "Successfully built gensim\n",
            "Installing collected packages: smart-open, gensim\n",
            "Successfully installed gensim-3.8.0 smart-open-6.3.0\n"
          ]
        }
      ],
      "source": [
        "!pip install \"gensim==3.8.0\""
      ]
    },
    {
      "cell_type": "code",
      "source": [
        "!pip install transformers"
      ],
      "metadata": {
        "colab": {
          "base_uri": "https://localhost:8080/"
        },
        "id": "I2vn5AFRDkeA",
        "outputId": "62060e59-77f6-4d61-c954-92b794bde75c"
      },
      "id": "I2vn5AFRDkeA",
      "execution_count": 2,
      "outputs": [
        {
          "output_type": "stream",
          "name": "stdout",
          "text": [
            "Collecting transformers\n",
            "  Downloading transformers-4.31.0-py3-none-any.whl (7.4 MB)\n",
            "\u001b[2K     \u001b[90m━━━━━━━━━━━━━━━━━━━━━━━━━━━━━━━━━━━━━━━━\u001b[0m \u001b[32m7.4/7.4 MB\u001b[0m \u001b[31m14.4 MB/s\u001b[0m eta \u001b[36m0:00:00\u001b[0m\n",
            "\u001b[?25hRequirement already satisfied: filelock in /usr/local/lib/python3.10/dist-packages (from transformers) (3.12.2)\n",
            "Collecting huggingface-hub<1.0,>=0.14.1 (from transformers)\n",
            "  Downloading huggingface_hub-0.16.4-py3-none-any.whl (268 kB)\n",
            "\u001b[2K     \u001b[90m━━━━━━━━━━━━━━━━━━━━━━━━━━━━━━━━━━━━━━\u001b[0m \u001b[32m268.8/268.8 kB\u001b[0m \u001b[31m23.6 MB/s\u001b[0m eta \u001b[36m0:00:00\u001b[0m\n",
            "\u001b[?25hRequirement already satisfied: numpy>=1.17 in /usr/local/lib/python3.10/dist-packages (from transformers) (1.23.5)\n",
            "Requirement already satisfied: packaging>=20.0 in /usr/local/lib/python3.10/dist-packages (from transformers) (23.1)\n",
            "Requirement already satisfied: pyyaml>=5.1 in /usr/local/lib/python3.10/dist-packages (from transformers) (6.0.1)\n",
            "Requirement already satisfied: regex!=2019.12.17 in /usr/local/lib/python3.10/dist-packages (from transformers) (2023.6.3)\n",
            "Requirement already satisfied: requests in /usr/local/lib/python3.10/dist-packages (from transformers) (2.31.0)\n",
            "Collecting tokenizers!=0.11.3,<0.14,>=0.11.1 (from transformers)\n",
            "  Downloading tokenizers-0.13.3-cp310-cp310-manylinux_2_17_x86_64.manylinux2014_x86_64.whl (7.8 MB)\n",
            "\u001b[2K     \u001b[90m━━━━━━━━━━━━━━━━━━━━━━━━━━━━━━━━━━━━━━━━\u001b[0m \u001b[32m7.8/7.8 MB\u001b[0m \u001b[31m36.9 MB/s\u001b[0m eta \u001b[36m0:00:00\u001b[0m\n",
            "\u001b[?25hCollecting safetensors>=0.3.1 (from transformers)\n",
            "  Downloading safetensors-0.3.2-cp310-cp310-manylinux_2_17_x86_64.manylinux2014_x86_64.whl (1.3 MB)\n",
            "\u001b[2K     \u001b[90m━━━━━━━━━━━━━━━━━━━━━━━━━━━━━━━━━━━━━━━━\u001b[0m \u001b[32m1.3/1.3 MB\u001b[0m \u001b[31m42.9 MB/s\u001b[0m eta \u001b[36m0:00:00\u001b[0m\n",
            "\u001b[?25hRequirement already satisfied: tqdm>=4.27 in /usr/local/lib/python3.10/dist-packages (from transformers) (4.66.0)\n",
            "Requirement already satisfied: fsspec in /usr/local/lib/python3.10/dist-packages (from huggingface-hub<1.0,>=0.14.1->transformers) (2023.6.0)\n",
            "Requirement already satisfied: typing-extensions>=3.7.4.3 in /usr/local/lib/python3.10/dist-packages (from huggingface-hub<1.0,>=0.14.1->transformers) (4.7.1)\n",
            "Requirement already satisfied: charset-normalizer<4,>=2 in /usr/local/lib/python3.10/dist-packages (from requests->transformers) (3.2.0)\n",
            "Requirement already satisfied: idna<4,>=2.5 in /usr/local/lib/python3.10/dist-packages (from requests->transformers) (3.4)\n",
            "Requirement already satisfied: urllib3<3,>=1.21.1 in /usr/local/lib/python3.10/dist-packages (from requests->transformers) (2.0.4)\n",
            "Requirement already satisfied: certifi>=2017.4.17 in /usr/local/lib/python3.10/dist-packages (from requests->transformers) (2023.7.22)\n",
            "Installing collected packages: tokenizers, safetensors, huggingface-hub, transformers\n",
            "Successfully installed huggingface-hub-0.16.4 safetensors-0.3.2 tokenizers-0.13.3 transformers-4.31.0\n"
          ]
        }
      ]
    },
    {
      "cell_type": "code",
      "source": [
        "!pip install bert_score"
      ],
      "metadata": {
        "colab": {
          "base_uri": "https://localhost:8080/"
        },
        "id": "mSOmozH1PmPf",
        "outputId": "e0f9a0fb-6771-4121-a537-ce14a4057ed6"
      },
      "id": "mSOmozH1PmPf",
      "execution_count": 33,
      "outputs": [
        {
          "output_type": "stream",
          "name": "stdout",
          "text": [
            "Collecting bert_score\n",
            "  Downloading bert_score-0.3.13-py3-none-any.whl (61 kB)\n",
            "\u001b[2K     \u001b[90m━━━━━━━━━━━━━━━━━━━━━━━━━━━━━━━━━━━━━━━\u001b[0m \u001b[32m61.1/61.1 kB\u001b[0m \u001b[31m656.3 kB/s\u001b[0m eta \u001b[36m0:00:00\u001b[0m\n",
            "\u001b[?25hRequirement already satisfied: torch>=1.0.0 in /usr/local/lib/python3.10/dist-packages (from bert_score) (2.0.1+cu118)\n",
            "Requirement already satisfied: pandas>=1.0.1 in /usr/local/lib/python3.10/dist-packages (from bert_score) (1.5.3)\n",
            "Requirement already satisfied: transformers>=3.0.0 in /usr/local/lib/python3.10/dist-packages (from bert_score) (4.31.0)\n",
            "Requirement already satisfied: numpy in /usr/local/lib/python3.10/dist-packages (from bert_score) (1.23.5)\n",
            "Requirement already satisfied: requests in /usr/local/lib/python3.10/dist-packages (from bert_score) (2.31.0)\n",
            "Requirement already satisfied: tqdm>=4.31.1 in /usr/local/lib/python3.10/dist-packages (from bert_score) (4.66.0)\n",
            "Requirement already satisfied: matplotlib in /usr/local/lib/python3.10/dist-packages (from bert_score) (3.7.1)\n",
            "Requirement already satisfied: packaging>=20.9 in /usr/local/lib/python3.10/dist-packages (from bert_score) (23.1)\n",
            "Requirement already satisfied: python-dateutil>=2.8.1 in /usr/local/lib/python3.10/dist-packages (from pandas>=1.0.1->bert_score) (2.8.2)\n",
            "Requirement already satisfied: pytz>=2020.1 in /usr/local/lib/python3.10/dist-packages (from pandas>=1.0.1->bert_score) (2023.3)\n",
            "Requirement already satisfied: filelock in /usr/local/lib/python3.10/dist-packages (from torch>=1.0.0->bert_score) (3.12.2)\n",
            "Requirement already satisfied: typing-extensions in /usr/local/lib/python3.10/dist-packages (from torch>=1.0.0->bert_score) (4.7.1)\n",
            "Requirement already satisfied: sympy in /usr/local/lib/python3.10/dist-packages (from torch>=1.0.0->bert_score) (1.12)\n",
            "Requirement already satisfied: networkx in /usr/local/lib/python3.10/dist-packages (from torch>=1.0.0->bert_score) (3.1)\n",
            "Requirement already satisfied: jinja2 in /usr/local/lib/python3.10/dist-packages (from torch>=1.0.0->bert_score) (3.1.2)\n",
            "Requirement already satisfied: triton==2.0.0 in /usr/local/lib/python3.10/dist-packages (from torch>=1.0.0->bert_score) (2.0.0)\n",
            "Requirement already satisfied: cmake in /usr/local/lib/python3.10/dist-packages (from triton==2.0.0->torch>=1.0.0->bert_score) (3.27.1)\n",
            "Requirement already satisfied: lit in /usr/local/lib/python3.10/dist-packages (from triton==2.0.0->torch>=1.0.0->bert_score) (16.0.6)\n",
            "Requirement already satisfied: huggingface-hub<1.0,>=0.14.1 in /usr/local/lib/python3.10/dist-packages (from transformers>=3.0.0->bert_score) (0.16.4)\n",
            "Requirement already satisfied: pyyaml>=5.1 in /usr/local/lib/python3.10/dist-packages (from transformers>=3.0.0->bert_score) (6.0.1)\n",
            "Requirement already satisfied: regex!=2019.12.17 in /usr/local/lib/python3.10/dist-packages (from transformers>=3.0.0->bert_score) (2023.6.3)\n",
            "Requirement already satisfied: tokenizers!=0.11.3,<0.14,>=0.11.1 in /usr/local/lib/python3.10/dist-packages (from transformers>=3.0.0->bert_score) (0.13.3)\n",
            "Requirement already satisfied: safetensors>=0.3.1 in /usr/local/lib/python3.10/dist-packages (from transformers>=3.0.0->bert_score) (0.3.2)\n",
            "Requirement already satisfied: contourpy>=1.0.1 in /usr/local/lib/python3.10/dist-packages (from matplotlib->bert_score) (1.1.0)\n",
            "Requirement already satisfied: cycler>=0.10 in /usr/local/lib/python3.10/dist-packages (from matplotlib->bert_score) (0.11.0)\n",
            "Requirement already satisfied: fonttools>=4.22.0 in /usr/local/lib/python3.10/dist-packages (from matplotlib->bert_score) (4.42.0)\n",
            "Requirement already satisfied: kiwisolver>=1.0.1 in /usr/local/lib/python3.10/dist-packages (from matplotlib->bert_score) (1.4.4)\n",
            "Requirement already satisfied: pillow>=6.2.0 in /usr/local/lib/python3.10/dist-packages (from matplotlib->bert_score) (9.4.0)\n",
            "Requirement already satisfied: pyparsing>=2.3.1 in /usr/local/lib/python3.10/dist-packages (from matplotlib->bert_score) (3.1.1)\n",
            "Requirement already satisfied: charset-normalizer<4,>=2 in /usr/local/lib/python3.10/dist-packages (from requests->bert_score) (3.2.0)\n",
            "Requirement already satisfied: idna<4,>=2.5 in /usr/local/lib/python3.10/dist-packages (from requests->bert_score) (3.4)\n",
            "Requirement already satisfied: urllib3<3,>=1.21.1 in /usr/local/lib/python3.10/dist-packages (from requests->bert_score) (2.0.4)\n",
            "Requirement already satisfied: certifi>=2017.4.17 in /usr/local/lib/python3.10/dist-packages (from requests->bert_score) (2023.7.22)\n",
            "Requirement already satisfied: fsspec in /usr/local/lib/python3.10/dist-packages (from huggingface-hub<1.0,>=0.14.1->transformers>=3.0.0->bert_score) (2023.6.0)\n",
            "Requirement already satisfied: six>=1.5 in /usr/local/lib/python3.10/dist-packages (from python-dateutil>=2.8.1->pandas>=1.0.1->bert_score) (1.16.0)\n",
            "Requirement already satisfied: MarkupSafe>=2.0 in /usr/local/lib/python3.10/dist-packages (from jinja2->torch>=1.0.0->bert_score) (2.1.3)\n",
            "Requirement already satisfied: mpmath>=0.19 in /usr/local/lib/python3.10/dist-packages (from sympy->torch>=1.0.0->bert_score) (1.3.0)\n",
            "Installing collected packages: bert_score\n",
            "Successfully installed bert_score-0.3.13\n"
          ]
        }
      ]
    },
    {
      "cell_type": "markdown",
      "source": [
        "## 데이터 불러오기"
      ],
      "metadata": {
        "id": "E-6EOUYnL-4_"
      },
      "id": "E-6EOUYnL-4_"
    },
    {
      "cell_type": "code",
      "execution_count": null,
      "id": "bee408e1",
      "metadata": {
        "id": "bee408e1"
      },
      "outputs": [],
      "source": [
        "from gensim.summarization.summarizer import summarize\n",
        "import pandas as pd"
      ]
    },
    {
      "cell_type": "code",
      "execution_count": null,
      "id": "0e364f9a",
      "metadata": {
        "id": "0e364f9a"
      },
      "outputs": [],
      "source": [
        "df = pd.read_csv('KB골든라이프X_건강new.csv')"
      ]
    },
    {
      "cell_type": "code",
      "execution_count": null,
      "id": "40c5bff3",
      "metadata": {
        "id": "40c5bff3",
        "outputId": "9225ef66-e902-418f-82b0-3fabdb678c08"
      },
      "outputs": [
        {
          "data": {
            "text/html": [
              "<div>\n",
              "<style scoped>\n",
              "    .dataframe tbody tr th:only-of-type {\n",
              "        vertical-align: middle;\n",
              "    }\n",
              "\n",
              "    .dataframe tbody tr th {\n",
              "        vertical-align: top;\n",
              "    }\n",
              "\n",
              "    .dataframe thead th {\n",
              "        text-align: right;\n",
              "    }\n",
              "</style>\n",
              "<table border=\"1\" class=\"dataframe\">\n",
              "  <thead>\n",
              "    <tr style=\"text-align: right;\">\n",
              "      <th></th>\n",
              "      <th>category</th>\n",
              "      <th>title</th>\n",
              "      <th>text</th>\n",
              "      <th>url</th>\n",
              "      <th>views</th>\n",
              "      <th>recommendation</th>\n",
              "    </tr>\n",
              "  </thead>\n",
              "  <tbody>\n",
              "    <tr>\n",
              "      <th>0</th>\n",
              "      <td>건강</td>\n",
              "      <td>자꾸만 '깜빡깜빡'하는 나, 건망증일까 치매일까?</td>\n",
              "      <td>‘깜빡깜빡’하는 일이 잦아지면 ‘나도 혹시 치매가 아닐까’라는 불안감이 엄습해 온다...</td>\n",
              "      <td>https://www.kbgoldenlifex.com/senior/XAA72P050...</td>\n",
              "      <td>131</td>\n",
              "      <td>https://www.kbgoldenlifex.com/senior/XAA72P050...</td>\n",
              "    </tr>\n",
              "    <tr>\n",
              "      <th>1</th>\n",
              "      <td>건강</td>\n",
              "      <td>평소에 먹는 약이 있다면? 이 음식을 주의하세요!</td>\n",
              "      <td>기관지 약, 알레르기 약, 고혈압 약, 고지혈증 치료제 등등… 평소에 복용하는 약 ...</td>\n",
              "      <td>https://www.kbgoldenlifex.com/senior/XAA72P050...</td>\n",
              "      <td>1777</td>\n",
              "      <td>https://kbgoldenlifex.com/senior/XAA72P05020.k...</td>\n",
              "    </tr>\n",
              "  </tbody>\n",
              "</table>\n",
              "</div>"
            ],
            "text/plain": [
              "  category                        title  \\\n",
              "0       건강  자꾸만 '깜빡깜빡'하는 나, 건망증일까 치매일까?   \n",
              "1       건강  평소에 먹는 약이 있다면? 이 음식을 주의하세요!   \n",
              "\n",
              "                                                text  \\\n",
              "0  ‘깜빡깜빡’하는 일이 잦아지면 ‘나도 혹시 치매가 아닐까’라는 불안감이 엄습해 온다...   \n",
              "1  기관지 약, 알레르기 약, 고혈압 약, 고지혈증 치료제 등등… 평소에 복용하는 약 ...   \n",
              "\n",
              "                                                 url  views  \\\n",
              "0  https://www.kbgoldenlifex.com/senior/XAA72P050...    131   \n",
              "1  https://www.kbgoldenlifex.com/senior/XAA72P050...   1777   \n",
              "\n",
              "                                      recommendation  \n",
              "0  https://www.kbgoldenlifex.com/senior/XAA72P050...  \n",
              "1  https://kbgoldenlifex.com/senior/XAA72P05020.k...  "
            ]
          },
          "execution_count": 9,
          "metadata": {},
          "output_type": "execute_result"
        }
      ],
      "source": [
        "df"
      ]
    },
    {
      "cell_type": "code",
      "execution_count": null,
      "id": "9c019c4d",
      "metadata": {
        "id": "9c019c4d"
      },
      "outputs": [],
      "source": [
        "text = df.iloc[1,2]"
      ]
    },
    {
      "cell_type": "code",
      "execution_count": null,
      "id": "fd862cb8",
      "metadata": {
        "id": "fd862cb8"
      },
      "outputs": [],
      "source": [
        "text = text.replace(\".\",\". \").replace(\".  \",\". \")"
      ]
    },
    {
      "cell_type": "code",
      "execution_count": null,
      "id": "ad121ca4",
      "metadata": {
        "id": "ad121ca4",
        "outputId": "0ee377b7-7336-4fcb-8327-7d1b5cc4348a"
      },
      "outputs": [
        {
          "data": {
            "text/plain": [
              "'기관지 약, 알레르기 약, 고혈압 약, 고지혈증 치료제 등등… 평소에 복용하는 약 효과를 제대로 보려면 음식도 가려 먹어야 한다. 음식의 특정 성분이 약 효과를 떨어트리고, 경우에 따라 부작용까지 일으키기 때문. 약 종류별 상극인 음식을 소개한다. 내가 자주 먹는 약이라면 잘 기억해뒀다가 약 먹는 기간 동안만큼은 그 음식과 거리를 두자. 약은 꼭 물과 함께 먹어야 하는 이유, 약과 음료별 궁합#부작용 위험 높아요, 진통제&기관지 약X커피기본적으로 커피를 마신 뒤엔 약을 복용하지 않는 게 좋다. 커피의 카페인은 간의 효소인 ‘CYP1A2’가 맡아서 대사하는데, 이 CYP1A2가 ‘아세트아미노펜(Acetaminophen)’, ‘안티피린(Antipyrine)’ 등 다양한 약 성분도 대사시켜 약 효과가 떨어진다. 해열진통제의 대표적인 성분인 아세트아미노펜(Acetaminophen)의 경우 부작용으로 간 손상과 위장관 출혈까지 일으킬 수 있으니 반드시 피할 것. 기관지 약도 카페인과 천적이다. 기관지 약 속 ‘알부테롤(Albuterol)’, ‘클렌부테롤(Clenbuterol)’ 등의 성분이 카페인을 만나면 중추신경계를 자극해 흥분, 불안, 심박수 같은 부작용을 일으킬 수 있기 때문. 따라서 기관지 천식 환자나 만성 기관지염 환자는 가급적 커피를 포함한 카페인 음료를 피할 것을 권한다. #약 효과 뚝! 알레르기 약X과일주스알레르기 약의 주성분은 ‘항히스타민제(Antihistamine)’다. 항히스타민제를 이루고 있는 주요 성분 중 하나인 ‘펙소페나딘(Fexonadine)’은 과일주스와 같이 마시면 효과가 떨어진다. 자몽·오렌지·사과 등으로 만든 과일주스는 위의 산도에 영향을 주어 알레르기 약 성분이 흡수되는 것을 방해할 수 있다. #장까지 가기도 전에 사라져요, 변비약X우유약알칼리성인 우유는 위산을 중화하는 역할을 한다. 문제는 우유의 이런 기능이 약의 보호막을 손상시켜 약물이 대장으로 채 가기도 전에 위장에서 녹아버리게 만든다는 것. 그러니 약효가 떨어지는 것은 물론이고, 위를 자극해 복통, 위경련 등의 부작용까지 일으킬 수 있다. 우유, 요거트 등 유제품을 섭취했다면 최소 1시간은 지난 후에 약을 복용하자. 좋은 식재료도 약과 상극일 수 있어요#어지럼증이 올 수 있어요, 고혈압약X육류고혈압 약 중 하나인 ‘베타차단제’는 심장 박동 수를 감소시키는 역할을 하는 약이다. 만약 자신이 먹는 약 중 ‘베타차단제’가 포함돼 있다면 소고기·돼지고기 등 붉은 육류나 닭고기 등 흰 육류 섭취는 가급적 피할 것을 권한다. 베타차단제를 고기와 함께 복용 시 약효가 정상 수치보다 증가해 어지럼증이나 저혈압을 발생시킬 수 있기 때문. 최소한 약을 복용하기 1~2시간 전후에는 육류 섭취를 피하자. #혈압이 높아질 수 있어요, 항우울제X치즈 or 항우울제X술‘모노아민 산화효소 억제제(monoamine oxidase inhibitors, MAOI)’는 우울증 치료제(항우울제)로 흔히 쓰이는 약이다. 이 약은 세로토닌, 노르에피네프린, 도파민 등 다양한 신경전달물질을 분해하는 모노아민 산화효소를 차단해 주는 역할을 한다. 만약 이 약을 복용하고 있다면 ‘티라민(Tyramine)’ 성분에 주의해 식단을 꾸려야 한다. 티라민 성분은 주로 소시지·치즈·요구르트·소금에 절인 식품 등에 함유돼 있다. 이 성분은 분해 효소를 억제하는 기전을 가진 약과 함께 복용 시 혈압을 상승시킬 수 있어 주의가 필요하다. 만약 ‘세로토닌 재흡수 억제제(SSRI)’를 복용하고 있다면 금주가 필수다. 술을 마시면 극단적인 혈압 상승을 일으킬 수 있어 특히 고혈압 환자의 경우 특별한 주의가 필요하다. #혈전 위험이 높아져요, 와파린X녹색 채소‘와파린(Warfarin)’은 혈액의 응고 작용을 지연시키는 항응고제다. 체내에 혈전 발생 위험이 큰 사람은 와파린을 복용함으로써 혈전, 즉 혈관이 막히는 것을 방지한다. 와파린은 음식에 영향을 많이 받는 것으로 알려져 있다. 대표적으로 비타민 K는 와파린의 항응고 작용을 방해하는 영양소다. 갑자기 비타민 K를 다량 함유한 음식을 많이 먹게 되면 와파린의 항응고 작용에 변화가 올 수 있으므로 주의가 필요하다. 비타민 K를 함유한 식품으로는 시금치· 상추· 양배추·브로콜리 등의 녹색 채소·콩 등이 있다. #약 효과를 과도하게 높여요, 고지혈증 치료제X자몽고지혈증 치료제로 사용되는 ‘스타틴(Statin)’ 계열의 약을 복용할 때 자몽은 금기다. 자몽에 포함된 쓴맛 성분 때문인데, 알약 1알의 부작용을 2. 5알 복용했을 때와 비슷한 수준으로 높인다. 자몽 주스의 경우 약에 미치는 효과가 72시간까지 지속되니, 72시간 간격 두고 섭취할 것'"
            ]
          },
          "execution_count": 21,
          "metadata": {},
          "output_type": "execute_result"
        }
      ],
      "source": [
        "text"
      ]
    },
    {
      "cell_type": "markdown",
      "source": [
        "## 추출적 요약을 이용하여 문단 구성"
      ],
      "metadata": {
        "id": "cvZlcIP4MAm7"
      },
      "id": "cvZlcIP4MAm7"
    },
    {
      "cell_type": "code",
      "execution_count": null,
      "id": "a53dbe89",
      "metadata": {
        "id": "a53dbe89",
        "outputId": "822332eb-0f71-4ef1-a2d6-ed1ab687d16f"
      },
      "outputs": [
        {
          "name": "stdout",
          "output_type": "stream",
          "text": [
            "기관지 약, 알레르기 약, 고혈압 약, 고지혈증 치료제 등등… 평소에 복용하는 약 효과를 제대로 보려면 음식도 가려 먹어야 한다.\n",
            "커피의 카페인은 간의 효소인 ‘CYP1A2’가 맡아서 대사하는데, 이 CYP1A2가 ‘아세트아미노펜(Acetaminophen)’, ‘안티피린(Antipyrine)’ 등 다양한 약 성분도 대사시켜 약 효과가 떨어진다.\n",
            "기관지 약 속 ‘알부테롤(Albuterol)’, ‘클렌부테롤(Clenbuterol)’ 등의 성분이 카페인을 만나면 중추신경계를 자극해 흥분, 불안, 심박수 같은 부작용을 일으킬 수 있기 때문.\n",
            "항히스타민제를 이루고 있는 주요 성분 중 하나인 ‘펙소페나딘(Fexonadine)’은 과일주스와 같이 마시면 효과가 떨어진다.\n",
            "그러니 약효가 떨어지는 것은 물론이고, 위를 자극해 복통, 위경련 등의 부작용까지 일으킬 수 있다.\n",
            "술을 마시면 극단적인 혈압 상승을 일으킬 수 있어 특히 고혈압 환자의 경우 특별한 주의가 필요하다.\n",
            "갑자기 비타민 K를 다량 함유한 음식을 많이 먹게 되면 와파린의 항응고 작용에 변화가 올 수 있으므로 주의가 필요하다.\n"
          ]
        }
      ],
      "source": [
        "# 추출적 요약\n",
        "summary = summarize(text, ratio = 0.2)\n",
        "print(summary)"
      ]
    },
    {
      "cell_type": "code",
      "execution_count": null,
      "id": "1feb06b2",
      "metadata": {
        "id": "1feb06b2"
      },
      "outputs": [],
      "source": [
        "paragraph = []\n",
        "temp = 0\n",
        "for i in summary.split('\\n'):\n",
        "    idx = text.find(i)\n",
        "    if idx-temp >= 100:\n",
        "        paragraph.append(text[temp:idx])\n",
        "        temp = idx\n",
        "paragraph.append(text[temp:])"
      ]
    },
    {
      "cell_type": "code",
      "execution_count": null,
      "id": "cc0afc58",
      "metadata": {
        "id": "cc0afc58",
        "outputId": "1452bcc7-270f-4e95-8cf4-79d0d4038aff"
      },
      "outputs": [
        {
          "data": {
            "text/plain": [
              "['기관지 약, 알레르기 약, 고혈압 약, 고지혈증 치료제 등등… 평소에 복용하는 약 효과를 제대로 보려면 음식도 가려 먹어야 한다. 음식의 특정 성분이 약 효과를 떨어트리고, 경우에 따라 부작용까지 일으키기 때문. 약 종류별 상극인 음식을 소개한다. 내가 자주 먹는 약이라면 잘 기억해뒀다가 약 먹는 기간 동안만큼은 그 음식과 거리를 두자. 약은 꼭 물과 함께 먹어야 하는 이유, 약과 음료별 궁합#부작용 위험 높아요, 진통제&기관지 약X커피기본적으로 커피를 마신 뒤엔 약을 복용하지 않는 게 좋다. ',\n",
              " '커피의 카페인은 간의 효소인 ‘CYP1A2’가 맡아서 대사하는데, 이 CYP1A2가 ‘아세트아미노펜(Acetaminophen)’, ‘안티피린(Antipyrine)’ 등 다양한 약 성분도 대사시켜 약 효과가 떨어진다. 해열진통제의 대표적인 성분인 아세트아미노펜(Acetaminophen)의 경우 부작용으로 간 손상과 위장관 출혈까지 일으킬 수 있으니 반드시 피할 것. 기관지 약도 카페인과 천적이다. ',\n",
              " '기관지 약 속 ‘알부테롤(Albuterol)’, ‘클렌부테롤(Clenbuterol)’ 등의 성분이 카페인을 만나면 중추신경계를 자극해 흥분, 불안, 심박수 같은 부작용을 일으킬 수 있기 때문. 따라서 기관지 천식 환자나 만성 기관지염 환자는 가급적 커피를 포함한 카페인 음료를 피할 것을 권한다. #약 효과 뚝! 알레르기 약X과일주스알레르기 약의 주성분은 ‘항히스타민제(Antihistamine)’다. ',\n",
              " '항히스타민제를 이루고 있는 주요 성분 중 하나인 ‘펙소페나딘(Fexonadine)’은 과일주스와 같이 마시면 효과가 떨어진다. 자몽·오렌지·사과 등으로 만든 과일주스는 위의 산도에 영향을 주어 알레르기 약 성분이 흡수되는 것을 방해할 수 있다. #장까지 가기도 전에 사라져요, 변비약X우유약알칼리성인 우유는 위산을 중화하는 역할을 한다. 문제는 우유의 이런 기능이 약의 보호막을 손상시켜 약물이 대장으로 채 가기도 전에 위장에서 녹아버리게 만든다는 것. ',\n",
              " '그러니 약효가 떨어지는 것은 물론이고, 위를 자극해 복통, 위경련 등의 부작용까지 일으킬 수 있다. 우유, 요거트 등 유제품을 섭취했다면 최소 1시간은 지난 후에 약을 복용하자. 좋은 식재료도 약과 상극일 수 있어요#어지럼증이 올 수 있어요, 고혈압약X육류고혈압 약 중 하나인 ‘베타차단제’는 심장 박동 수를 감소시키는 역할을 하는 약이다. 만약 자신이 먹는 약 중 ‘베타차단제’가 포함돼 있다면 소고기·돼지고기 등 붉은 육류나 닭고기 등 흰 육류 섭취는 가급적 피할 것을 권한다. 베타차단제를 고기와 함께 복용 시 약효가 정상 수치보다 증가해 어지럼증이나 저혈압을 발생시킬 수 있기 때문. 최소한 약을 복용하기 1~2시간 전후에는 육류 섭취를 피하자. #혈압이 높아질 수 있어요, 항우울제X치즈 or 항우울제X술‘모노아민 산화효소 억제제(monoamine oxidase inhibitors, MAOI)’는 우울증 치료제(항우울제)로 흔히 쓰이는 약이다. 이 약은 세로토닌, 노르에피네프린, 도파민 등 다양한 신경전달물질을 분해하는 모노아민 산화효소를 차단해 주는 역할을 한다. 만약 이 약을 복용하고 있다면 ‘티라민(Tyramine)’ 성분에 주의해 식단을 꾸려야 한다. 티라민 성분은 주로 소시지·치즈·요구르트·소금에 절인 식품 등에 함유돼 있다. 이 성분은 분해 효소를 억제하는 기전을 가진 약과 함께 복용 시 혈압을 상승시킬 수 있어 주의가 필요하다. 만약 ‘세로토닌 재흡수 억제제(SSRI)’를 복용하고 있다면 금주가 필수다. ',\n",
              " '술을 마시면 극단적인 혈압 상승을 일으킬 수 있어 특히 고혈압 환자의 경우 특별한 주의가 필요하다. #혈전 위험이 높아져요, 와파린X녹색 채소‘와파린(Warfarin)’은 혈액의 응고 작용을 지연시키는 항응고제다. 체내에 혈전 발생 위험이 큰 사람은 와파린을 복용함으로써 혈전, 즉 혈관이 막히는 것을 방지한다. 와파린은 음식에 영향을 많이 받는 것으로 알려져 있다. 대표적으로 비타민 K는 와파린의 항응고 작용을 방해하는 영양소다. ',\n",
              " '갑자기 비타민 K를 다량 함유한 음식을 많이 먹게 되면 와파린의 항응고 작용에 변화가 올 수 있으므로 주의가 필요하다. 비타민 K를 함유한 식품으로는 시금치· 상추· 양배추·브로콜리 등의 녹색 채소·콩 등이 있다. #약 효과를 과도하게 높여요, 고지혈증 치료제X자몽고지혈증 치료제로 사용되는 ‘스타틴(Statin)’ 계열의 약을 복용할 때 자몽은 금기다. 자몽에 포함된 쓴맛 성분 때문인데, 알약 1알의 부작용을 2. 5알 복용했을 때와 비슷한 수준으로 높인다. 자몽 주스의 경우 약에 미치는 효과가 72시간까지 지속되니, 72시간 간격 두고 섭취할 것']"
            ]
          },
          "execution_count": 31,
          "metadata": {},
          "output_type": "execute_result"
        }
      ],
      "source": [
        "paragraph"
      ]
    },
    {
      "cell_type": "markdown",
      "source": [
        "## 추상적 요약"
      ],
      "metadata": {
        "id": "yKD7aWj-MG0x"
      },
      "id": "yKD7aWj-MG0x"
    },
    {
      "cell_type": "code",
      "source": [
        "import torch\n",
        "from transformers import PreTrainedTokenizerFast\n",
        "from transformers import BartForConditionalGeneration"
      ],
      "metadata": {
        "id": "m2X3QKUcEY0L"
      },
      "id": "m2X3QKUcEY0L",
      "execution_count": 3,
      "outputs": []
    },
    {
      "cell_type": "code",
      "source": [
        "tokenizer = PreTrainedTokenizerFast.from_pretrained('gogamza/kobart-summarization')\n",
        "model = BartForConditionalGeneration.from_pretrained('gogamza/kobart-summarization')"
      ],
      "metadata": {
        "colab": {
          "base_uri": "https://localhost:8080/",
          "height": 268,
          "referenced_widgets": [
            "e1922a85fa614790800686e9804700b3",
            "2acbb335338843e3a939840a11dce508",
            "60f08d8ec4e3406496cdebf737bcacdf",
            "28bb48b51d244307acfed507779e302c",
            "65cae622c94c486a86d6f3cf2e3a847e",
            "8021386cfe1c4c16a0ecdccc077d1f4e",
            "3efd87a286be484fb743ae74b921d734",
            "3716f45c8fea40d281784e78aa6f3319",
            "01bffdeb0b4c44839445de4bf31265a5",
            "09ac871a17894e76aa22f3e779b24055",
            "d98bc2529e72483586ea2100491622b6",
            "47feb14b5a844e76848a21a18f946de1",
            "c89fa71ba92644879901752d4e33d25f",
            "77e4ed521cda4d4b8207d77fc5e63e2d",
            "50798b4941fa48c4886bd23a6ad9bb92",
            "cfdff62496c64ff08693e7cecd70eba3",
            "344974fc162d4f7cad256853cc6e038e",
            "398d455e360a463eb6e4e5cfdf9c3b0c",
            "a86a1ddfb4c7467cafeed0ad647290d9",
            "57d53381e5704e23b8dfa8196569fe3d",
            "048b90306b0e42fb87e604fd4052fc23",
            "5f9750923fb3470084d71cb09a304dd8",
            "690c5a3308cf43f1bde5ec28ebec2c54",
            "6606a5c7faf643149e6e644c7720513c",
            "270fcb0ef1474535b19badd40ff6334b",
            "78b2049a86f7456d96be2812b868758c",
            "4781ae85d40b458fb02791fa96d90926",
            "9c2befe54f2e4322889ea270a09b23d3",
            "61ef19c14209496b9a966a9f0ad09500",
            "7a7bd3dacbf748cb9ab031d757b32a0c",
            "bf0bf2dcabc54bb49ca6f16049dd9e4f",
            "556076ac5fb440b9abebeb6bb3d7fba2",
            "3f195d3e162e4a7197a54556bf79f21b",
            "ad8f7f00151342f8bfa624a5e27e7517",
            "de6e0d0e0ccb469fb245c8bcae0e1ba0",
            "61fa21a360ed41159e49b017f1c61f4a",
            "b3b1a7145ff44349b5786ce3a79d8802",
            "2f109afd665640dba83430be3045bde6",
            "eee534bf8f99422c98d0fb788eda3b2d",
            "ac73440f060d43a697816ae608385109",
            "a54ddb9dba6e45efa5c0b9a6f080d328",
            "50868f95a4da4e5280a0a949e7a04146",
            "964d01e3eaa44c12a7b9970f440ab8ab",
            "b8b146adc1ee41e3bf57d10e2a21d546",
            "835c0f0c4b5a4ed98721fe140217b547",
            "27e6dc87e14b42899d5f4e656c87cf9e",
            "d1452bce96354f8bbae6aeb519ef37c5",
            "cd9961d5a440468f9cb819235e868915",
            "c959ccd49e914da5a9c2624eb184fdd5",
            "5ab3abafd3564927866122984310ef89",
            "57c190cd297648eab355715866596593",
            "a3fadc65587d4b8f9b04a6a277608c22",
            "cd720e456f8d43cab315dc4c0723969a",
            "a8aa4080e33446098e394cd25158ac48",
            "11a2f192f37643c8aae71d24cb4de0c8"
          ]
        },
        "id": "5SXsY5sjEaO8",
        "outputId": "de26ec58-a6c4-4725-f312-ba5825786305"
      },
      "id": "5SXsY5sjEaO8",
      "execution_count": 20,
      "outputs": [
        {
          "output_type": "display_data",
          "data": {
            "text/plain": [
              "Downloading (…)/main/tokenizer.json:   0%|          | 0.00/682k [00:00<?, ?B/s]"
            ],
            "application/vnd.jupyter.widget-view+json": {
              "version_major": 2,
              "version_minor": 0,
              "model_id": "e1922a85fa614790800686e9804700b3"
            }
          },
          "metadata": {}
        },
        {
          "output_type": "display_data",
          "data": {
            "text/plain": [
              "Downloading (…)in/added_tokens.json:   0%|          | 0.00/4.00 [00:00<?, ?B/s]"
            ],
            "application/vnd.jupyter.widget-view+json": {
              "version_major": 2,
              "version_minor": 0,
              "model_id": "47feb14b5a844e76848a21a18f946de1"
            }
          },
          "metadata": {}
        },
        {
          "output_type": "display_data",
          "data": {
            "text/plain": [
              "Downloading (…)cial_tokens_map.json:   0%|          | 0.00/111 [00:00<?, ?B/s]"
            ],
            "application/vnd.jupyter.widget-view+json": {
              "version_major": 2,
              "version_minor": 0,
              "model_id": "690c5a3308cf43f1bde5ec28ebec2c54"
            }
          },
          "metadata": {}
        },
        {
          "output_type": "display_data",
          "data": {
            "text/plain": [
              "Downloading (…)lve/main/config.json:   0%|          | 0.00/1.18k [00:00<?, ?B/s]"
            ],
            "application/vnd.jupyter.widget-view+json": {
              "version_major": 2,
              "version_minor": 0,
              "model_id": "ad8f7f00151342f8bfa624a5e27e7517"
            }
          },
          "metadata": {}
        },
        {
          "output_type": "stream",
          "name": "stderr",
          "text": [
            "You passed along `num_labels=3` with an incompatible id to label map: {'0': 'NEGATIVE', '1': 'POSITIVE'}. The number of labels wil be overwritten to 2.\n",
            "The tokenizer class you load from this checkpoint is not the same type as the class this function is called from. It may result in unexpected tokenization. \n",
            "The tokenizer class you load from this checkpoint is 'BartTokenizer'. \n",
            "The class this function is called from is 'PreTrainedTokenizerFast'.\n",
            "You passed along `num_labels=3` with an incompatible id to label map: {'0': 'NEGATIVE', '1': 'POSITIVE'}. The number of labels wil be overwritten to 2.\n"
          ]
        },
        {
          "output_type": "display_data",
          "data": {
            "text/plain": [
              "Downloading model.safetensors:   0%|          | 0.00/496M [00:00<?, ?B/s]"
            ],
            "application/vnd.jupyter.widget-view+json": {
              "version_major": 2,
              "version_minor": 0,
              "model_id": "835c0f0c4b5a4ed98721fe140217b547"
            }
          },
          "metadata": {}
        }
      ]
    },
    {
      "cell_type": "code",
      "source": [
        "def gen_summary(paragraph):\n",
        "  summary = \"\"\n",
        "  for text in paragraph:\n",
        "    raw_input_ids = tokenizer.encode(text)\n",
        "    input_ids = [tokenizer.bos_token_id] + raw_input_ids + [tokenizer.eos_token_id]\n",
        "    summary_ids = model.generate(torch.tensor([input_ids]), max_length=500, min_length=50, length_penalty=3.0, num_beams=1)\n",
        "    summary += tokenizer.decode(summary_ids.squeeze().tolist(), skip_special_tokens=True).strip() + \" \"\n",
        "  return summary"
      ],
      "metadata": {
        "id": "xHTLDDQEKMB8"
      },
      "id": "xHTLDDQEKMB8",
      "execution_count": 29,
      "outputs": []
    },
    {
      "cell_type": "code",
      "source": [
        "summary = gen_summary(paragraph)"
      ],
      "metadata": {
        "id": "d7DGY6_bKlNc"
      },
      "id": "d7DGY6_bKlNc",
      "execution_count": 30,
      "outputs": []
    },
    {
      "cell_type": "code",
      "source": [
        "summary"
      ],
      "metadata": {
        "colab": {
          "base_uri": "https://localhost:8080/",
          "height": 126
        },
        "id": "zkk3LY0DEwK1",
        "outputId": "83636b77-d088-4459-b63b-41e8f48fe5f2"
      },
      "id": "zkk3LY0DEwK1",
      "execution_count": 31,
      "outputs": [
        {
          "output_type": "execute_result",
          "data": {
            "text/plain": [
              "\"약의 약 효과를 제대로 보려면 음식도 가려 먹어야 하는데, 특히 알레르기 약, 고혈압 약, 고지혈증 치료제 등등은 약 효과를 떨어뜨리므로 음식도 가려 먹어야 한다. 해열진통제의 대표적인 성분인 아세트아미노펜(Acetaminophen)의 경우 부작용으로 간 손상과 위장관 출혈까지 일으킬 수 있으니 반드시 피해야 한다. 알레르기 약의 주성분은 '알부테롤', '클렌부테롤' 등의 성분이 카페인을 만나면 중추신경계를 자극해 흥분, 불안, 심박수 같은 부작용을 일으킬 수 있기 때문에 기관지 천식 환자나 만성 기관지염 환자는 가급적 커피를 포함한 카페인 음료를 피하는 것이 좋다. 항히스타민제를 이루고 있는 '펙소페나딘(Fexonadine)'은 알레르기 약 성분이 흡수되는 것을 방해할 수 있어 알레르기 약 성분이 흡수되는 것을 방해할 수 있다. 우유, 요거트 등 유제품을 섭취했다면 최소 1시간은 지난 후에 약을 복용해야 하며 고혈압약X육류고혈압 약 중 하나인 '베타차단제'는 심장 박동 수를 감소시키는 약이므로 소고기·돼지고기 등 붉은 육류 섭취는 피하는 것이 좋다. 혈액의 응고 작용을 지연시키는 항응고제인 와파린은 혈전 발생 위험이 큰 사람은 혈관이 막히는 것을 방지하는 항응고제이며 특히 고혈압 환자의 경우 특별한 주의가 필요하다. 시금치· 상추· 양배추·브로콜리 등의 녹색 채소·콩 등이 함유된 자몽 주스를 섭취할 경우 약에 미치는 효과가 72시간까지 지속되므로 72시간 간격 두고 섭취할 것을 권장한다. \""
            ],
            "application/vnd.google.colaboratory.intrinsic+json": {
              "type": "string"
            }
          },
          "metadata": {},
          "execution_count": 31
        }
      ]
    },
    {
      "cell_type": "code",
      "source": [
        "# 최종 함수\n",
        "\n",
        "def generate_summary(text):\n",
        "  summary = summarize(text, ratio = 0.2)\n",
        "  paragraph = []\n",
        "  temp = 0\n",
        "  for i in summary.split('\\n'):\n",
        "      idx = text.find(i)\n",
        "      if idx-temp >= 100: # 한 문단은 최소 100자 이상 떨어져야함\n",
        "          paragraph.append(text[temp:idx])\n",
        "          temp = idx\n",
        "  paragraph.append(text[temp:]) # 문단 구성\n",
        "\n",
        "  summary = \"\"\n",
        "  for text in paragraph:\n",
        "    raw_input_ids = tokenizer.encode(text)\n",
        "    input_ids = [tokenizer.bos_token_id] + raw_input_ids + [tokenizer.eos_token_id]\n",
        "    summary_ids = model.generate(torch.tensor([input_ids]), max_length=500, min_length=50, length_penalty=3.0, num_beams=1)\n",
        "    summary += tokenizer.decode(summary_ids.squeeze().tolist(), skip_special_tokens=True).strip() + \" \"\n",
        "  return summary"
      ],
      "metadata": {
        "id": "u_2bJjfHLBTO"
      },
      "id": "u_2bJjfHLBTO",
      "execution_count": 32,
      "outputs": []
    },
    {
      "cell_type": "markdown",
      "source": [
        "## 전체 텍스트에 대해 요약문이 어느 정도를 반영하는지 성능 측정"
      ],
      "metadata": {
        "id": "OYAestiJPpaE"
      },
      "id": "OYAestiJPpaE"
    },
    {
      "cell_type": "code",
      "source": [
        "import numpy as np\n",
        "import bert_score\n",
        "\n",
        "def bertScore(original, reference):\n",
        "  orig = [original]\n",
        "  ref = [reference]\n",
        "  P,R,F = bert_score.score(orig, ref, lang='ko', device='cpu')\n",
        "  return np.round((float(F[0])+float(P[0])+float(R[0]))/3, 3)"
      ],
      "metadata": {
        "id": "sViN-suiOMw5"
      },
      "id": "sViN-suiOMw5",
      "execution_count": 42,
      "outputs": []
    },
    {
      "cell_type": "code",
      "source": [
        "bertScore(text, summary)"
      ],
      "metadata": {
        "colab": {
          "base_uri": "https://localhost:8080/"
        },
        "id": "_P1-k7skP0IS",
        "outputId": "89a4ea01-9e5a-45a4-d44a-15034d5dfb83"
      },
      "id": "_P1-k7skP0IS",
      "execution_count": 43,
      "outputs": [
        {
          "output_type": "execute_result",
          "data": {
            "text/plain": [
              "0.792"
            ]
          },
          "metadata": {},
          "execution_count": 43
        }
      ]
    },
    {
      "cell_type": "markdown",
      "source": [
        "- 요약문은 전체 텍스트의 79.2%를 포함하고 있음."
      ],
      "metadata": {
        "id": "gc_hssCBQNoi"
      },
      "id": "gc_hssCBQNoi"
    }
  ],
  "metadata": {
    "kernelspec": {
      "display_name": "Python 3",
      "language": "python",
      "name": "python3"
    },
    "language_info": {
      "codemirror_mode": {
        "name": "ipython",
        "version": 3
      },
      "file_extension": ".py",
      "mimetype": "text/x-python",
      "name": "python",
      "nbconvert_exporter": "python",
      "pygments_lexer": "ipython3",
      "version": "3.8.8"
    },
    "colab": {
      "provenance": []
    },
    "widgets": {
      "application/vnd.jupyter.widget-state+json": {
        "e1922a85fa614790800686e9804700b3": {
          "model_module": "@jupyter-widgets/controls",
          "model_name": "HBoxModel",
          "model_module_version": "1.5.0",
          "state": {
            "_dom_classes": [],
            "_model_module": "@jupyter-widgets/controls",
            "_model_module_version": "1.5.0",
            "_model_name": "HBoxModel",
            "_view_count": null,
            "_view_module": "@jupyter-widgets/controls",
            "_view_module_version": "1.5.0",
            "_view_name": "HBoxView",
            "box_style": "",
            "children": [
              "IPY_MODEL_2acbb335338843e3a939840a11dce508",
              "IPY_MODEL_60f08d8ec4e3406496cdebf737bcacdf",
              "IPY_MODEL_28bb48b51d244307acfed507779e302c"
            ],
            "layout": "IPY_MODEL_65cae622c94c486a86d6f3cf2e3a847e"
          }
        },
        "2acbb335338843e3a939840a11dce508": {
          "model_module": "@jupyter-widgets/controls",
          "model_name": "HTMLModel",
          "model_module_version": "1.5.0",
          "state": {
            "_dom_classes": [],
            "_model_module": "@jupyter-widgets/controls",
            "_model_module_version": "1.5.0",
            "_model_name": "HTMLModel",
            "_view_count": null,
            "_view_module": "@jupyter-widgets/controls",
            "_view_module_version": "1.5.0",
            "_view_name": "HTMLView",
            "description": "",
            "description_tooltip": null,
            "layout": "IPY_MODEL_8021386cfe1c4c16a0ecdccc077d1f4e",
            "placeholder": "​",
            "style": "IPY_MODEL_3efd87a286be484fb743ae74b921d734",
            "value": "Downloading (…)/main/tokenizer.json: 100%"
          }
        },
        "60f08d8ec4e3406496cdebf737bcacdf": {
          "model_module": "@jupyter-widgets/controls",
          "model_name": "FloatProgressModel",
          "model_module_version": "1.5.0",
          "state": {
            "_dom_classes": [],
            "_model_module": "@jupyter-widgets/controls",
            "_model_module_version": "1.5.0",
            "_model_name": "FloatProgressModel",
            "_view_count": null,
            "_view_module": "@jupyter-widgets/controls",
            "_view_module_version": "1.5.0",
            "_view_name": "ProgressView",
            "bar_style": "success",
            "description": "",
            "description_tooltip": null,
            "layout": "IPY_MODEL_3716f45c8fea40d281784e78aa6f3319",
            "max": 682152,
            "min": 0,
            "orientation": "horizontal",
            "style": "IPY_MODEL_01bffdeb0b4c44839445de4bf31265a5",
            "value": 682152
          }
        },
        "28bb48b51d244307acfed507779e302c": {
          "model_module": "@jupyter-widgets/controls",
          "model_name": "HTMLModel",
          "model_module_version": "1.5.0",
          "state": {
            "_dom_classes": [],
            "_model_module": "@jupyter-widgets/controls",
            "_model_module_version": "1.5.0",
            "_model_name": "HTMLModel",
            "_view_count": null,
            "_view_module": "@jupyter-widgets/controls",
            "_view_module_version": "1.5.0",
            "_view_name": "HTMLView",
            "description": "",
            "description_tooltip": null,
            "layout": "IPY_MODEL_09ac871a17894e76aa22f3e779b24055",
            "placeholder": "​",
            "style": "IPY_MODEL_d98bc2529e72483586ea2100491622b6",
            "value": " 682k/682k [00:00&lt;00:00, 5.35MB/s]"
          }
        },
        "65cae622c94c486a86d6f3cf2e3a847e": {
          "model_module": "@jupyter-widgets/base",
          "model_name": "LayoutModel",
          "model_module_version": "1.2.0",
          "state": {
            "_model_module": "@jupyter-widgets/base",
            "_model_module_version": "1.2.0",
            "_model_name": "LayoutModel",
            "_view_count": null,
            "_view_module": "@jupyter-widgets/base",
            "_view_module_version": "1.2.0",
            "_view_name": "LayoutView",
            "align_content": null,
            "align_items": null,
            "align_self": null,
            "border": null,
            "bottom": null,
            "display": null,
            "flex": null,
            "flex_flow": null,
            "grid_area": null,
            "grid_auto_columns": null,
            "grid_auto_flow": null,
            "grid_auto_rows": null,
            "grid_column": null,
            "grid_gap": null,
            "grid_row": null,
            "grid_template_areas": null,
            "grid_template_columns": null,
            "grid_template_rows": null,
            "height": null,
            "justify_content": null,
            "justify_items": null,
            "left": null,
            "margin": null,
            "max_height": null,
            "max_width": null,
            "min_height": null,
            "min_width": null,
            "object_fit": null,
            "object_position": null,
            "order": null,
            "overflow": null,
            "overflow_x": null,
            "overflow_y": null,
            "padding": null,
            "right": null,
            "top": null,
            "visibility": null,
            "width": null
          }
        },
        "8021386cfe1c4c16a0ecdccc077d1f4e": {
          "model_module": "@jupyter-widgets/base",
          "model_name": "LayoutModel",
          "model_module_version": "1.2.0",
          "state": {
            "_model_module": "@jupyter-widgets/base",
            "_model_module_version": "1.2.0",
            "_model_name": "LayoutModel",
            "_view_count": null,
            "_view_module": "@jupyter-widgets/base",
            "_view_module_version": "1.2.0",
            "_view_name": "LayoutView",
            "align_content": null,
            "align_items": null,
            "align_self": null,
            "border": null,
            "bottom": null,
            "display": null,
            "flex": null,
            "flex_flow": null,
            "grid_area": null,
            "grid_auto_columns": null,
            "grid_auto_flow": null,
            "grid_auto_rows": null,
            "grid_column": null,
            "grid_gap": null,
            "grid_row": null,
            "grid_template_areas": null,
            "grid_template_columns": null,
            "grid_template_rows": null,
            "height": null,
            "justify_content": null,
            "justify_items": null,
            "left": null,
            "margin": null,
            "max_height": null,
            "max_width": null,
            "min_height": null,
            "min_width": null,
            "object_fit": null,
            "object_position": null,
            "order": null,
            "overflow": null,
            "overflow_x": null,
            "overflow_y": null,
            "padding": null,
            "right": null,
            "top": null,
            "visibility": null,
            "width": null
          }
        },
        "3efd87a286be484fb743ae74b921d734": {
          "model_module": "@jupyter-widgets/controls",
          "model_name": "DescriptionStyleModel",
          "model_module_version": "1.5.0",
          "state": {
            "_model_module": "@jupyter-widgets/controls",
            "_model_module_version": "1.5.0",
            "_model_name": "DescriptionStyleModel",
            "_view_count": null,
            "_view_module": "@jupyter-widgets/base",
            "_view_module_version": "1.2.0",
            "_view_name": "StyleView",
            "description_width": ""
          }
        },
        "3716f45c8fea40d281784e78aa6f3319": {
          "model_module": "@jupyter-widgets/base",
          "model_name": "LayoutModel",
          "model_module_version": "1.2.0",
          "state": {
            "_model_module": "@jupyter-widgets/base",
            "_model_module_version": "1.2.0",
            "_model_name": "LayoutModel",
            "_view_count": null,
            "_view_module": "@jupyter-widgets/base",
            "_view_module_version": "1.2.0",
            "_view_name": "LayoutView",
            "align_content": null,
            "align_items": null,
            "align_self": null,
            "border": null,
            "bottom": null,
            "display": null,
            "flex": null,
            "flex_flow": null,
            "grid_area": null,
            "grid_auto_columns": null,
            "grid_auto_flow": null,
            "grid_auto_rows": null,
            "grid_column": null,
            "grid_gap": null,
            "grid_row": null,
            "grid_template_areas": null,
            "grid_template_columns": null,
            "grid_template_rows": null,
            "height": null,
            "justify_content": null,
            "justify_items": null,
            "left": null,
            "margin": null,
            "max_height": null,
            "max_width": null,
            "min_height": null,
            "min_width": null,
            "object_fit": null,
            "object_position": null,
            "order": null,
            "overflow": null,
            "overflow_x": null,
            "overflow_y": null,
            "padding": null,
            "right": null,
            "top": null,
            "visibility": null,
            "width": null
          }
        },
        "01bffdeb0b4c44839445de4bf31265a5": {
          "model_module": "@jupyter-widgets/controls",
          "model_name": "ProgressStyleModel",
          "model_module_version": "1.5.0",
          "state": {
            "_model_module": "@jupyter-widgets/controls",
            "_model_module_version": "1.5.0",
            "_model_name": "ProgressStyleModel",
            "_view_count": null,
            "_view_module": "@jupyter-widgets/base",
            "_view_module_version": "1.2.0",
            "_view_name": "StyleView",
            "bar_color": null,
            "description_width": ""
          }
        },
        "09ac871a17894e76aa22f3e779b24055": {
          "model_module": "@jupyter-widgets/base",
          "model_name": "LayoutModel",
          "model_module_version": "1.2.0",
          "state": {
            "_model_module": "@jupyter-widgets/base",
            "_model_module_version": "1.2.0",
            "_model_name": "LayoutModel",
            "_view_count": null,
            "_view_module": "@jupyter-widgets/base",
            "_view_module_version": "1.2.0",
            "_view_name": "LayoutView",
            "align_content": null,
            "align_items": null,
            "align_self": null,
            "border": null,
            "bottom": null,
            "display": null,
            "flex": null,
            "flex_flow": null,
            "grid_area": null,
            "grid_auto_columns": null,
            "grid_auto_flow": null,
            "grid_auto_rows": null,
            "grid_column": null,
            "grid_gap": null,
            "grid_row": null,
            "grid_template_areas": null,
            "grid_template_columns": null,
            "grid_template_rows": null,
            "height": null,
            "justify_content": null,
            "justify_items": null,
            "left": null,
            "margin": null,
            "max_height": null,
            "max_width": null,
            "min_height": null,
            "min_width": null,
            "object_fit": null,
            "object_position": null,
            "order": null,
            "overflow": null,
            "overflow_x": null,
            "overflow_y": null,
            "padding": null,
            "right": null,
            "top": null,
            "visibility": null,
            "width": null
          }
        },
        "d98bc2529e72483586ea2100491622b6": {
          "model_module": "@jupyter-widgets/controls",
          "model_name": "DescriptionStyleModel",
          "model_module_version": "1.5.0",
          "state": {
            "_model_module": "@jupyter-widgets/controls",
            "_model_module_version": "1.5.0",
            "_model_name": "DescriptionStyleModel",
            "_view_count": null,
            "_view_module": "@jupyter-widgets/base",
            "_view_module_version": "1.2.0",
            "_view_name": "StyleView",
            "description_width": ""
          }
        },
        "47feb14b5a844e76848a21a18f946de1": {
          "model_module": "@jupyter-widgets/controls",
          "model_name": "HBoxModel",
          "model_module_version": "1.5.0",
          "state": {
            "_dom_classes": [],
            "_model_module": "@jupyter-widgets/controls",
            "_model_module_version": "1.5.0",
            "_model_name": "HBoxModel",
            "_view_count": null,
            "_view_module": "@jupyter-widgets/controls",
            "_view_module_version": "1.5.0",
            "_view_name": "HBoxView",
            "box_style": "",
            "children": [
              "IPY_MODEL_c89fa71ba92644879901752d4e33d25f",
              "IPY_MODEL_77e4ed521cda4d4b8207d77fc5e63e2d",
              "IPY_MODEL_50798b4941fa48c4886bd23a6ad9bb92"
            ],
            "layout": "IPY_MODEL_cfdff62496c64ff08693e7cecd70eba3"
          }
        },
        "c89fa71ba92644879901752d4e33d25f": {
          "model_module": "@jupyter-widgets/controls",
          "model_name": "HTMLModel",
          "model_module_version": "1.5.0",
          "state": {
            "_dom_classes": [],
            "_model_module": "@jupyter-widgets/controls",
            "_model_module_version": "1.5.0",
            "_model_name": "HTMLModel",
            "_view_count": null,
            "_view_module": "@jupyter-widgets/controls",
            "_view_module_version": "1.5.0",
            "_view_name": "HTMLView",
            "description": "",
            "description_tooltip": null,
            "layout": "IPY_MODEL_344974fc162d4f7cad256853cc6e038e",
            "placeholder": "​",
            "style": "IPY_MODEL_398d455e360a463eb6e4e5cfdf9c3b0c",
            "value": "Downloading (…)in/added_tokens.json: 100%"
          }
        },
        "77e4ed521cda4d4b8207d77fc5e63e2d": {
          "model_module": "@jupyter-widgets/controls",
          "model_name": "FloatProgressModel",
          "model_module_version": "1.5.0",
          "state": {
            "_dom_classes": [],
            "_model_module": "@jupyter-widgets/controls",
            "_model_module_version": "1.5.0",
            "_model_name": "FloatProgressModel",
            "_view_count": null,
            "_view_module": "@jupyter-widgets/controls",
            "_view_module_version": "1.5.0",
            "_view_name": "ProgressView",
            "bar_style": "success",
            "description": "",
            "description_tooltip": null,
            "layout": "IPY_MODEL_a86a1ddfb4c7467cafeed0ad647290d9",
            "max": 4,
            "min": 0,
            "orientation": "horizontal",
            "style": "IPY_MODEL_57d53381e5704e23b8dfa8196569fe3d",
            "value": 4
          }
        },
        "50798b4941fa48c4886bd23a6ad9bb92": {
          "model_module": "@jupyter-widgets/controls",
          "model_name": "HTMLModel",
          "model_module_version": "1.5.0",
          "state": {
            "_dom_classes": [],
            "_model_module": "@jupyter-widgets/controls",
            "_model_module_version": "1.5.0",
            "_model_name": "HTMLModel",
            "_view_count": null,
            "_view_module": "@jupyter-widgets/controls",
            "_view_module_version": "1.5.0",
            "_view_name": "HTMLView",
            "description": "",
            "description_tooltip": null,
            "layout": "IPY_MODEL_048b90306b0e42fb87e604fd4052fc23",
            "placeholder": "​",
            "style": "IPY_MODEL_5f9750923fb3470084d71cb09a304dd8",
            "value": " 4.00/4.00 [00:00&lt;00:00, 94.5B/s]"
          }
        },
        "cfdff62496c64ff08693e7cecd70eba3": {
          "model_module": "@jupyter-widgets/base",
          "model_name": "LayoutModel",
          "model_module_version": "1.2.0",
          "state": {
            "_model_module": "@jupyter-widgets/base",
            "_model_module_version": "1.2.0",
            "_model_name": "LayoutModel",
            "_view_count": null,
            "_view_module": "@jupyter-widgets/base",
            "_view_module_version": "1.2.0",
            "_view_name": "LayoutView",
            "align_content": null,
            "align_items": null,
            "align_self": null,
            "border": null,
            "bottom": null,
            "display": null,
            "flex": null,
            "flex_flow": null,
            "grid_area": null,
            "grid_auto_columns": null,
            "grid_auto_flow": null,
            "grid_auto_rows": null,
            "grid_column": null,
            "grid_gap": null,
            "grid_row": null,
            "grid_template_areas": null,
            "grid_template_columns": null,
            "grid_template_rows": null,
            "height": null,
            "justify_content": null,
            "justify_items": null,
            "left": null,
            "margin": null,
            "max_height": null,
            "max_width": null,
            "min_height": null,
            "min_width": null,
            "object_fit": null,
            "object_position": null,
            "order": null,
            "overflow": null,
            "overflow_x": null,
            "overflow_y": null,
            "padding": null,
            "right": null,
            "top": null,
            "visibility": null,
            "width": null
          }
        },
        "344974fc162d4f7cad256853cc6e038e": {
          "model_module": "@jupyter-widgets/base",
          "model_name": "LayoutModel",
          "model_module_version": "1.2.0",
          "state": {
            "_model_module": "@jupyter-widgets/base",
            "_model_module_version": "1.2.0",
            "_model_name": "LayoutModel",
            "_view_count": null,
            "_view_module": "@jupyter-widgets/base",
            "_view_module_version": "1.2.0",
            "_view_name": "LayoutView",
            "align_content": null,
            "align_items": null,
            "align_self": null,
            "border": null,
            "bottom": null,
            "display": null,
            "flex": null,
            "flex_flow": null,
            "grid_area": null,
            "grid_auto_columns": null,
            "grid_auto_flow": null,
            "grid_auto_rows": null,
            "grid_column": null,
            "grid_gap": null,
            "grid_row": null,
            "grid_template_areas": null,
            "grid_template_columns": null,
            "grid_template_rows": null,
            "height": null,
            "justify_content": null,
            "justify_items": null,
            "left": null,
            "margin": null,
            "max_height": null,
            "max_width": null,
            "min_height": null,
            "min_width": null,
            "object_fit": null,
            "object_position": null,
            "order": null,
            "overflow": null,
            "overflow_x": null,
            "overflow_y": null,
            "padding": null,
            "right": null,
            "top": null,
            "visibility": null,
            "width": null
          }
        },
        "398d455e360a463eb6e4e5cfdf9c3b0c": {
          "model_module": "@jupyter-widgets/controls",
          "model_name": "DescriptionStyleModel",
          "model_module_version": "1.5.0",
          "state": {
            "_model_module": "@jupyter-widgets/controls",
            "_model_module_version": "1.5.0",
            "_model_name": "DescriptionStyleModel",
            "_view_count": null,
            "_view_module": "@jupyter-widgets/base",
            "_view_module_version": "1.2.0",
            "_view_name": "StyleView",
            "description_width": ""
          }
        },
        "a86a1ddfb4c7467cafeed0ad647290d9": {
          "model_module": "@jupyter-widgets/base",
          "model_name": "LayoutModel",
          "model_module_version": "1.2.0",
          "state": {
            "_model_module": "@jupyter-widgets/base",
            "_model_module_version": "1.2.0",
            "_model_name": "LayoutModel",
            "_view_count": null,
            "_view_module": "@jupyter-widgets/base",
            "_view_module_version": "1.2.0",
            "_view_name": "LayoutView",
            "align_content": null,
            "align_items": null,
            "align_self": null,
            "border": null,
            "bottom": null,
            "display": null,
            "flex": null,
            "flex_flow": null,
            "grid_area": null,
            "grid_auto_columns": null,
            "grid_auto_flow": null,
            "grid_auto_rows": null,
            "grid_column": null,
            "grid_gap": null,
            "grid_row": null,
            "grid_template_areas": null,
            "grid_template_columns": null,
            "grid_template_rows": null,
            "height": null,
            "justify_content": null,
            "justify_items": null,
            "left": null,
            "margin": null,
            "max_height": null,
            "max_width": null,
            "min_height": null,
            "min_width": null,
            "object_fit": null,
            "object_position": null,
            "order": null,
            "overflow": null,
            "overflow_x": null,
            "overflow_y": null,
            "padding": null,
            "right": null,
            "top": null,
            "visibility": null,
            "width": null
          }
        },
        "57d53381e5704e23b8dfa8196569fe3d": {
          "model_module": "@jupyter-widgets/controls",
          "model_name": "ProgressStyleModel",
          "model_module_version": "1.5.0",
          "state": {
            "_model_module": "@jupyter-widgets/controls",
            "_model_module_version": "1.5.0",
            "_model_name": "ProgressStyleModel",
            "_view_count": null,
            "_view_module": "@jupyter-widgets/base",
            "_view_module_version": "1.2.0",
            "_view_name": "StyleView",
            "bar_color": null,
            "description_width": ""
          }
        },
        "048b90306b0e42fb87e604fd4052fc23": {
          "model_module": "@jupyter-widgets/base",
          "model_name": "LayoutModel",
          "model_module_version": "1.2.0",
          "state": {
            "_model_module": "@jupyter-widgets/base",
            "_model_module_version": "1.2.0",
            "_model_name": "LayoutModel",
            "_view_count": null,
            "_view_module": "@jupyter-widgets/base",
            "_view_module_version": "1.2.0",
            "_view_name": "LayoutView",
            "align_content": null,
            "align_items": null,
            "align_self": null,
            "border": null,
            "bottom": null,
            "display": null,
            "flex": null,
            "flex_flow": null,
            "grid_area": null,
            "grid_auto_columns": null,
            "grid_auto_flow": null,
            "grid_auto_rows": null,
            "grid_column": null,
            "grid_gap": null,
            "grid_row": null,
            "grid_template_areas": null,
            "grid_template_columns": null,
            "grid_template_rows": null,
            "height": null,
            "justify_content": null,
            "justify_items": null,
            "left": null,
            "margin": null,
            "max_height": null,
            "max_width": null,
            "min_height": null,
            "min_width": null,
            "object_fit": null,
            "object_position": null,
            "order": null,
            "overflow": null,
            "overflow_x": null,
            "overflow_y": null,
            "padding": null,
            "right": null,
            "top": null,
            "visibility": null,
            "width": null
          }
        },
        "5f9750923fb3470084d71cb09a304dd8": {
          "model_module": "@jupyter-widgets/controls",
          "model_name": "DescriptionStyleModel",
          "model_module_version": "1.5.0",
          "state": {
            "_model_module": "@jupyter-widgets/controls",
            "_model_module_version": "1.5.0",
            "_model_name": "DescriptionStyleModel",
            "_view_count": null,
            "_view_module": "@jupyter-widgets/base",
            "_view_module_version": "1.2.0",
            "_view_name": "StyleView",
            "description_width": ""
          }
        },
        "690c5a3308cf43f1bde5ec28ebec2c54": {
          "model_module": "@jupyter-widgets/controls",
          "model_name": "HBoxModel",
          "model_module_version": "1.5.0",
          "state": {
            "_dom_classes": [],
            "_model_module": "@jupyter-widgets/controls",
            "_model_module_version": "1.5.0",
            "_model_name": "HBoxModel",
            "_view_count": null,
            "_view_module": "@jupyter-widgets/controls",
            "_view_module_version": "1.5.0",
            "_view_name": "HBoxView",
            "box_style": "",
            "children": [
              "IPY_MODEL_6606a5c7faf643149e6e644c7720513c",
              "IPY_MODEL_270fcb0ef1474535b19badd40ff6334b",
              "IPY_MODEL_78b2049a86f7456d96be2812b868758c"
            ],
            "layout": "IPY_MODEL_4781ae85d40b458fb02791fa96d90926"
          }
        },
        "6606a5c7faf643149e6e644c7720513c": {
          "model_module": "@jupyter-widgets/controls",
          "model_name": "HTMLModel",
          "model_module_version": "1.5.0",
          "state": {
            "_dom_classes": [],
            "_model_module": "@jupyter-widgets/controls",
            "_model_module_version": "1.5.0",
            "_model_name": "HTMLModel",
            "_view_count": null,
            "_view_module": "@jupyter-widgets/controls",
            "_view_module_version": "1.5.0",
            "_view_name": "HTMLView",
            "description": "",
            "description_tooltip": null,
            "layout": "IPY_MODEL_9c2befe54f2e4322889ea270a09b23d3",
            "placeholder": "​",
            "style": "IPY_MODEL_61ef19c14209496b9a966a9f0ad09500",
            "value": "Downloading (…)cial_tokens_map.json: 100%"
          }
        },
        "270fcb0ef1474535b19badd40ff6334b": {
          "model_module": "@jupyter-widgets/controls",
          "model_name": "FloatProgressModel",
          "model_module_version": "1.5.0",
          "state": {
            "_dom_classes": [],
            "_model_module": "@jupyter-widgets/controls",
            "_model_module_version": "1.5.0",
            "_model_name": "FloatProgressModel",
            "_view_count": null,
            "_view_module": "@jupyter-widgets/controls",
            "_view_module_version": "1.5.0",
            "_view_name": "ProgressView",
            "bar_style": "success",
            "description": "",
            "description_tooltip": null,
            "layout": "IPY_MODEL_7a7bd3dacbf748cb9ab031d757b32a0c",
            "max": 111,
            "min": 0,
            "orientation": "horizontal",
            "style": "IPY_MODEL_bf0bf2dcabc54bb49ca6f16049dd9e4f",
            "value": 111
          }
        },
        "78b2049a86f7456d96be2812b868758c": {
          "model_module": "@jupyter-widgets/controls",
          "model_name": "HTMLModel",
          "model_module_version": "1.5.0",
          "state": {
            "_dom_classes": [],
            "_model_module": "@jupyter-widgets/controls",
            "_model_module_version": "1.5.0",
            "_model_name": "HTMLModel",
            "_view_count": null,
            "_view_module": "@jupyter-widgets/controls",
            "_view_module_version": "1.5.0",
            "_view_name": "HTMLView",
            "description": "",
            "description_tooltip": null,
            "layout": "IPY_MODEL_556076ac5fb440b9abebeb6bb3d7fba2",
            "placeholder": "​",
            "style": "IPY_MODEL_3f195d3e162e4a7197a54556bf79f21b",
            "value": " 111/111 [00:00&lt;00:00, 2.45kB/s]"
          }
        },
        "4781ae85d40b458fb02791fa96d90926": {
          "model_module": "@jupyter-widgets/base",
          "model_name": "LayoutModel",
          "model_module_version": "1.2.0",
          "state": {
            "_model_module": "@jupyter-widgets/base",
            "_model_module_version": "1.2.0",
            "_model_name": "LayoutModel",
            "_view_count": null,
            "_view_module": "@jupyter-widgets/base",
            "_view_module_version": "1.2.0",
            "_view_name": "LayoutView",
            "align_content": null,
            "align_items": null,
            "align_self": null,
            "border": null,
            "bottom": null,
            "display": null,
            "flex": null,
            "flex_flow": null,
            "grid_area": null,
            "grid_auto_columns": null,
            "grid_auto_flow": null,
            "grid_auto_rows": null,
            "grid_column": null,
            "grid_gap": null,
            "grid_row": null,
            "grid_template_areas": null,
            "grid_template_columns": null,
            "grid_template_rows": null,
            "height": null,
            "justify_content": null,
            "justify_items": null,
            "left": null,
            "margin": null,
            "max_height": null,
            "max_width": null,
            "min_height": null,
            "min_width": null,
            "object_fit": null,
            "object_position": null,
            "order": null,
            "overflow": null,
            "overflow_x": null,
            "overflow_y": null,
            "padding": null,
            "right": null,
            "top": null,
            "visibility": null,
            "width": null
          }
        },
        "9c2befe54f2e4322889ea270a09b23d3": {
          "model_module": "@jupyter-widgets/base",
          "model_name": "LayoutModel",
          "model_module_version": "1.2.0",
          "state": {
            "_model_module": "@jupyter-widgets/base",
            "_model_module_version": "1.2.0",
            "_model_name": "LayoutModel",
            "_view_count": null,
            "_view_module": "@jupyter-widgets/base",
            "_view_module_version": "1.2.0",
            "_view_name": "LayoutView",
            "align_content": null,
            "align_items": null,
            "align_self": null,
            "border": null,
            "bottom": null,
            "display": null,
            "flex": null,
            "flex_flow": null,
            "grid_area": null,
            "grid_auto_columns": null,
            "grid_auto_flow": null,
            "grid_auto_rows": null,
            "grid_column": null,
            "grid_gap": null,
            "grid_row": null,
            "grid_template_areas": null,
            "grid_template_columns": null,
            "grid_template_rows": null,
            "height": null,
            "justify_content": null,
            "justify_items": null,
            "left": null,
            "margin": null,
            "max_height": null,
            "max_width": null,
            "min_height": null,
            "min_width": null,
            "object_fit": null,
            "object_position": null,
            "order": null,
            "overflow": null,
            "overflow_x": null,
            "overflow_y": null,
            "padding": null,
            "right": null,
            "top": null,
            "visibility": null,
            "width": null
          }
        },
        "61ef19c14209496b9a966a9f0ad09500": {
          "model_module": "@jupyter-widgets/controls",
          "model_name": "DescriptionStyleModel",
          "model_module_version": "1.5.0",
          "state": {
            "_model_module": "@jupyter-widgets/controls",
            "_model_module_version": "1.5.0",
            "_model_name": "DescriptionStyleModel",
            "_view_count": null,
            "_view_module": "@jupyter-widgets/base",
            "_view_module_version": "1.2.0",
            "_view_name": "StyleView",
            "description_width": ""
          }
        },
        "7a7bd3dacbf748cb9ab031d757b32a0c": {
          "model_module": "@jupyter-widgets/base",
          "model_name": "LayoutModel",
          "model_module_version": "1.2.0",
          "state": {
            "_model_module": "@jupyter-widgets/base",
            "_model_module_version": "1.2.0",
            "_model_name": "LayoutModel",
            "_view_count": null,
            "_view_module": "@jupyter-widgets/base",
            "_view_module_version": "1.2.0",
            "_view_name": "LayoutView",
            "align_content": null,
            "align_items": null,
            "align_self": null,
            "border": null,
            "bottom": null,
            "display": null,
            "flex": null,
            "flex_flow": null,
            "grid_area": null,
            "grid_auto_columns": null,
            "grid_auto_flow": null,
            "grid_auto_rows": null,
            "grid_column": null,
            "grid_gap": null,
            "grid_row": null,
            "grid_template_areas": null,
            "grid_template_columns": null,
            "grid_template_rows": null,
            "height": null,
            "justify_content": null,
            "justify_items": null,
            "left": null,
            "margin": null,
            "max_height": null,
            "max_width": null,
            "min_height": null,
            "min_width": null,
            "object_fit": null,
            "object_position": null,
            "order": null,
            "overflow": null,
            "overflow_x": null,
            "overflow_y": null,
            "padding": null,
            "right": null,
            "top": null,
            "visibility": null,
            "width": null
          }
        },
        "bf0bf2dcabc54bb49ca6f16049dd9e4f": {
          "model_module": "@jupyter-widgets/controls",
          "model_name": "ProgressStyleModel",
          "model_module_version": "1.5.0",
          "state": {
            "_model_module": "@jupyter-widgets/controls",
            "_model_module_version": "1.5.0",
            "_model_name": "ProgressStyleModel",
            "_view_count": null,
            "_view_module": "@jupyter-widgets/base",
            "_view_module_version": "1.2.0",
            "_view_name": "StyleView",
            "bar_color": null,
            "description_width": ""
          }
        },
        "556076ac5fb440b9abebeb6bb3d7fba2": {
          "model_module": "@jupyter-widgets/base",
          "model_name": "LayoutModel",
          "model_module_version": "1.2.0",
          "state": {
            "_model_module": "@jupyter-widgets/base",
            "_model_module_version": "1.2.0",
            "_model_name": "LayoutModel",
            "_view_count": null,
            "_view_module": "@jupyter-widgets/base",
            "_view_module_version": "1.2.0",
            "_view_name": "LayoutView",
            "align_content": null,
            "align_items": null,
            "align_self": null,
            "border": null,
            "bottom": null,
            "display": null,
            "flex": null,
            "flex_flow": null,
            "grid_area": null,
            "grid_auto_columns": null,
            "grid_auto_flow": null,
            "grid_auto_rows": null,
            "grid_column": null,
            "grid_gap": null,
            "grid_row": null,
            "grid_template_areas": null,
            "grid_template_columns": null,
            "grid_template_rows": null,
            "height": null,
            "justify_content": null,
            "justify_items": null,
            "left": null,
            "margin": null,
            "max_height": null,
            "max_width": null,
            "min_height": null,
            "min_width": null,
            "object_fit": null,
            "object_position": null,
            "order": null,
            "overflow": null,
            "overflow_x": null,
            "overflow_y": null,
            "padding": null,
            "right": null,
            "top": null,
            "visibility": null,
            "width": null
          }
        },
        "3f195d3e162e4a7197a54556bf79f21b": {
          "model_module": "@jupyter-widgets/controls",
          "model_name": "DescriptionStyleModel",
          "model_module_version": "1.5.0",
          "state": {
            "_model_module": "@jupyter-widgets/controls",
            "_model_module_version": "1.5.0",
            "_model_name": "DescriptionStyleModel",
            "_view_count": null,
            "_view_module": "@jupyter-widgets/base",
            "_view_module_version": "1.2.0",
            "_view_name": "StyleView",
            "description_width": ""
          }
        },
        "ad8f7f00151342f8bfa624a5e27e7517": {
          "model_module": "@jupyter-widgets/controls",
          "model_name": "HBoxModel",
          "model_module_version": "1.5.0",
          "state": {
            "_dom_classes": [],
            "_model_module": "@jupyter-widgets/controls",
            "_model_module_version": "1.5.0",
            "_model_name": "HBoxModel",
            "_view_count": null,
            "_view_module": "@jupyter-widgets/controls",
            "_view_module_version": "1.5.0",
            "_view_name": "HBoxView",
            "box_style": "",
            "children": [
              "IPY_MODEL_de6e0d0e0ccb469fb245c8bcae0e1ba0",
              "IPY_MODEL_61fa21a360ed41159e49b017f1c61f4a",
              "IPY_MODEL_b3b1a7145ff44349b5786ce3a79d8802"
            ],
            "layout": "IPY_MODEL_2f109afd665640dba83430be3045bde6"
          }
        },
        "de6e0d0e0ccb469fb245c8bcae0e1ba0": {
          "model_module": "@jupyter-widgets/controls",
          "model_name": "HTMLModel",
          "model_module_version": "1.5.0",
          "state": {
            "_dom_classes": [],
            "_model_module": "@jupyter-widgets/controls",
            "_model_module_version": "1.5.0",
            "_model_name": "HTMLModel",
            "_view_count": null,
            "_view_module": "@jupyter-widgets/controls",
            "_view_module_version": "1.5.0",
            "_view_name": "HTMLView",
            "description": "",
            "description_tooltip": null,
            "layout": "IPY_MODEL_eee534bf8f99422c98d0fb788eda3b2d",
            "placeholder": "​",
            "style": "IPY_MODEL_ac73440f060d43a697816ae608385109",
            "value": "Downloading (…)lve/main/config.json: 100%"
          }
        },
        "61fa21a360ed41159e49b017f1c61f4a": {
          "model_module": "@jupyter-widgets/controls",
          "model_name": "FloatProgressModel",
          "model_module_version": "1.5.0",
          "state": {
            "_dom_classes": [],
            "_model_module": "@jupyter-widgets/controls",
            "_model_module_version": "1.5.0",
            "_model_name": "FloatProgressModel",
            "_view_count": null,
            "_view_module": "@jupyter-widgets/controls",
            "_view_module_version": "1.5.0",
            "_view_name": "ProgressView",
            "bar_style": "success",
            "description": "",
            "description_tooltip": null,
            "layout": "IPY_MODEL_a54ddb9dba6e45efa5c0b9a6f080d328",
            "max": 1178,
            "min": 0,
            "orientation": "horizontal",
            "style": "IPY_MODEL_50868f95a4da4e5280a0a949e7a04146",
            "value": 1178
          }
        },
        "b3b1a7145ff44349b5786ce3a79d8802": {
          "model_module": "@jupyter-widgets/controls",
          "model_name": "HTMLModel",
          "model_module_version": "1.5.0",
          "state": {
            "_dom_classes": [],
            "_model_module": "@jupyter-widgets/controls",
            "_model_module_version": "1.5.0",
            "_model_name": "HTMLModel",
            "_view_count": null,
            "_view_module": "@jupyter-widgets/controls",
            "_view_module_version": "1.5.0",
            "_view_name": "HTMLView",
            "description": "",
            "description_tooltip": null,
            "layout": "IPY_MODEL_964d01e3eaa44c12a7b9970f440ab8ab",
            "placeholder": "​",
            "style": "IPY_MODEL_b8b146adc1ee41e3bf57d10e2a21d546",
            "value": " 1.18k/1.18k [00:00&lt;00:00, 52.7kB/s]"
          }
        },
        "2f109afd665640dba83430be3045bde6": {
          "model_module": "@jupyter-widgets/base",
          "model_name": "LayoutModel",
          "model_module_version": "1.2.0",
          "state": {
            "_model_module": "@jupyter-widgets/base",
            "_model_module_version": "1.2.0",
            "_model_name": "LayoutModel",
            "_view_count": null,
            "_view_module": "@jupyter-widgets/base",
            "_view_module_version": "1.2.0",
            "_view_name": "LayoutView",
            "align_content": null,
            "align_items": null,
            "align_self": null,
            "border": null,
            "bottom": null,
            "display": null,
            "flex": null,
            "flex_flow": null,
            "grid_area": null,
            "grid_auto_columns": null,
            "grid_auto_flow": null,
            "grid_auto_rows": null,
            "grid_column": null,
            "grid_gap": null,
            "grid_row": null,
            "grid_template_areas": null,
            "grid_template_columns": null,
            "grid_template_rows": null,
            "height": null,
            "justify_content": null,
            "justify_items": null,
            "left": null,
            "margin": null,
            "max_height": null,
            "max_width": null,
            "min_height": null,
            "min_width": null,
            "object_fit": null,
            "object_position": null,
            "order": null,
            "overflow": null,
            "overflow_x": null,
            "overflow_y": null,
            "padding": null,
            "right": null,
            "top": null,
            "visibility": null,
            "width": null
          }
        },
        "eee534bf8f99422c98d0fb788eda3b2d": {
          "model_module": "@jupyter-widgets/base",
          "model_name": "LayoutModel",
          "model_module_version": "1.2.0",
          "state": {
            "_model_module": "@jupyter-widgets/base",
            "_model_module_version": "1.2.0",
            "_model_name": "LayoutModel",
            "_view_count": null,
            "_view_module": "@jupyter-widgets/base",
            "_view_module_version": "1.2.0",
            "_view_name": "LayoutView",
            "align_content": null,
            "align_items": null,
            "align_self": null,
            "border": null,
            "bottom": null,
            "display": null,
            "flex": null,
            "flex_flow": null,
            "grid_area": null,
            "grid_auto_columns": null,
            "grid_auto_flow": null,
            "grid_auto_rows": null,
            "grid_column": null,
            "grid_gap": null,
            "grid_row": null,
            "grid_template_areas": null,
            "grid_template_columns": null,
            "grid_template_rows": null,
            "height": null,
            "justify_content": null,
            "justify_items": null,
            "left": null,
            "margin": null,
            "max_height": null,
            "max_width": null,
            "min_height": null,
            "min_width": null,
            "object_fit": null,
            "object_position": null,
            "order": null,
            "overflow": null,
            "overflow_x": null,
            "overflow_y": null,
            "padding": null,
            "right": null,
            "top": null,
            "visibility": null,
            "width": null
          }
        },
        "ac73440f060d43a697816ae608385109": {
          "model_module": "@jupyter-widgets/controls",
          "model_name": "DescriptionStyleModel",
          "model_module_version": "1.5.0",
          "state": {
            "_model_module": "@jupyter-widgets/controls",
            "_model_module_version": "1.5.0",
            "_model_name": "DescriptionStyleModel",
            "_view_count": null,
            "_view_module": "@jupyter-widgets/base",
            "_view_module_version": "1.2.0",
            "_view_name": "StyleView",
            "description_width": ""
          }
        },
        "a54ddb9dba6e45efa5c0b9a6f080d328": {
          "model_module": "@jupyter-widgets/base",
          "model_name": "LayoutModel",
          "model_module_version": "1.2.0",
          "state": {
            "_model_module": "@jupyter-widgets/base",
            "_model_module_version": "1.2.0",
            "_model_name": "LayoutModel",
            "_view_count": null,
            "_view_module": "@jupyter-widgets/base",
            "_view_module_version": "1.2.0",
            "_view_name": "LayoutView",
            "align_content": null,
            "align_items": null,
            "align_self": null,
            "border": null,
            "bottom": null,
            "display": null,
            "flex": null,
            "flex_flow": null,
            "grid_area": null,
            "grid_auto_columns": null,
            "grid_auto_flow": null,
            "grid_auto_rows": null,
            "grid_column": null,
            "grid_gap": null,
            "grid_row": null,
            "grid_template_areas": null,
            "grid_template_columns": null,
            "grid_template_rows": null,
            "height": null,
            "justify_content": null,
            "justify_items": null,
            "left": null,
            "margin": null,
            "max_height": null,
            "max_width": null,
            "min_height": null,
            "min_width": null,
            "object_fit": null,
            "object_position": null,
            "order": null,
            "overflow": null,
            "overflow_x": null,
            "overflow_y": null,
            "padding": null,
            "right": null,
            "top": null,
            "visibility": null,
            "width": null
          }
        },
        "50868f95a4da4e5280a0a949e7a04146": {
          "model_module": "@jupyter-widgets/controls",
          "model_name": "ProgressStyleModel",
          "model_module_version": "1.5.0",
          "state": {
            "_model_module": "@jupyter-widgets/controls",
            "_model_module_version": "1.5.0",
            "_model_name": "ProgressStyleModel",
            "_view_count": null,
            "_view_module": "@jupyter-widgets/base",
            "_view_module_version": "1.2.0",
            "_view_name": "StyleView",
            "bar_color": null,
            "description_width": ""
          }
        },
        "964d01e3eaa44c12a7b9970f440ab8ab": {
          "model_module": "@jupyter-widgets/base",
          "model_name": "LayoutModel",
          "model_module_version": "1.2.0",
          "state": {
            "_model_module": "@jupyter-widgets/base",
            "_model_module_version": "1.2.0",
            "_model_name": "LayoutModel",
            "_view_count": null,
            "_view_module": "@jupyter-widgets/base",
            "_view_module_version": "1.2.0",
            "_view_name": "LayoutView",
            "align_content": null,
            "align_items": null,
            "align_self": null,
            "border": null,
            "bottom": null,
            "display": null,
            "flex": null,
            "flex_flow": null,
            "grid_area": null,
            "grid_auto_columns": null,
            "grid_auto_flow": null,
            "grid_auto_rows": null,
            "grid_column": null,
            "grid_gap": null,
            "grid_row": null,
            "grid_template_areas": null,
            "grid_template_columns": null,
            "grid_template_rows": null,
            "height": null,
            "justify_content": null,
            "justify_items": null,
            "left": null,
            "margin": null,
            "max_height": null,
            "max_width": null,
            "min_height": null,
            "min_width": null,
            "object_fit": null,
            "object_position": null,
            "order": null,
            "overflow": null,
            "overflow_x": null,
            "overflow_y": null,
            "padding": null,
            "right": null,
            "top": null,
            "visibility": null,
            "width": null
          }
        },
        "b8b146adc1ee41e3bf57d10e2a21d546": {
          "model_module": "@jupyter-widgets/controls",
          "model_name": "DescriptionStyleModel",
          "model_module_version": "1.5.0",
          "state": {
            "_model_module": "@jupyter-widgets/controls",
            "_model_module_version": "1.5.0",
            "_model_name": "DescriptionStyleModel",
            "_view_count": null,
            "_view_module": "@jupyter-widgets/base",
            "_view_module_version": "1.2.0",
            "_view_name": "StyleView",
            "description_width": ""
          }
        },
        "835c0f0c4b5a4ed98721fe140217b547": {
          "model_module": "@jupyter-widgets/controls",
          "model_name": "HBoxModel",
          "model_module_version": "1.5.0",
          "state": {
            "_dom_classes": [],
            "_model_module": "@jupyter-widgets/controls",
            "_model_module_version": "1.5.0",
            "_model_name": "HBoxModel",
            "_view_count": null,
            "_view_module": "@jupyter-widgets/controls",
            "_view_module_version": "1.5.0",
            "_view_name": "HBoxView",
            "box_style": "",
            "children": [
              "IPY_MODEL_27e6dc87e14b42899d5f4e656c87cf9e",
              "IPY_MODEL_d1452bce96354f8bbae6aeb519ef37c5",
              "IPY_MODEL_cd9961d5a440468f9cb819235e868915"
            ],
            "layout": "IPY_MODEL_c959ccd49e914da5a9c2624eb184fdd5"
          }
        },
        "27e6dc87e14b42899d5f4e656c87cf9e": {
          "model_module": "@jupyter-widgets/controls",
          "model_name": "HTMLModel",
          "model_module_version": "1.5.0",
          "state": {
            "_dom_classes": [],
            "_model_module": "@jupyter-widgets/controls",
            "_model_module_version": "1.5.0",
            "_model_name": "HTMLModel",
            "_view_count": null,
            "_view_module": "@jupyter-widgets/controls",
            "_view_module_version": "1.5.0",
            "_view_name": "HTMLView",
            "description": "",
            "description_tooltip": null,
            "layout": "IPY_MODEL_5ab3abafd3564927866122984310ef89",
            "placeholder": "​",
            "style": "IPY_MODEL_57c190cd297648eab355715866596593",
            "value": "Downloading model.safetensors: 100%"
          }
        },
        "d1452bce96354f8bbae6aeb519ef37c5": {
          "model_module": "@jupyter-widgets/controls",
          "model_name": "FloatProgressModel",
          "model_module_version": "1.5.0",
          "state": {
            "_dom_classes": [],
            "_model_module": "@jupyter-widgets/controls",
            "_model_module_version": "1.5.0",
            "_model_name": "FloatProgressModel",
            "_view_count": null,
            "_view_module": "@jupyter-widgets/controls",
            "_view_module_version": "1.5.0",
            "_view_name": "ProgressView",
            "bar_style": "success",
            "description": "",
            "description_tooltip": null,
            "layout": "IPY_MODEL_a3fadc65587d4b8f9b04a6a277608c22",
            "max": 495589764,
            "min": 0,
            "orientation": "horizontal",
            "style": "IPY_MODEL_cd720e456f8d43cab315dc4c0723969a",
            "value": 495589764
          }
        },
        "cd9961d5a440468f9cb819235e868915": {
          "model_module": "@jupyter-widgets/controls",
          "model_name": "HTMLModel",
          "model_module_version": "1.5.0",
          "state": {
            "_dom_classes": [],
            "_model_module": "@jupyter-widgets/controls",
            "_model_module_version": "1.5.0",
            "_model_name": "HTMLModel",
            "_view_count": null,
            "_view_module": "@jupyter-widgets/controls",
            "_view_module_version": "1.5.0",
            "_view_name": "HTMLView",
            "description": "",
            "description_tooltip": null,
            "layout": "IPY_MODEL_a8aa4080e33446098e394cd25158ac48",
            "placeholder": "​",
            "style": "IPY_MODEL_11a2f192f37643c8aae71d24cb4de0c8",
            "value": " 496M/496M [00:08&lt;00:00, 59.6MB/s]"
          }
        },
        "c959ccd49e914da5a9c2624eb184fdd5": {
          "model_module": "@jupyter-widgets/base",
          "model_name": "LayoutModel",
          "model_module_version": "1.2.0",
          "state": {
            "_model_module": "@jupyter-widgets/base",
            "_model_module_version": "1.2.0",
            "_model_name": "LayoutModel",
            "_view_count": null,
            "_view_module": "@jupyter-widgets/base",
            "_view_module_version": "1.2.0",
            "_view_name": "LayoutView",
            "align_content": null,
            "align_items": null,
            "align_self": null,
            "border": null,
            "bottom": null,
            "display": null,
            "flex": null,
            "flex_flow": null,
            "grid_area": null,
            "grid_auto_columns": null,
            "grid_auto_flow": null,
            "grid_auto_rows": null,
            "grid_column": null,
            "grid_gap": null,
            "grid_row": null,
            "grid_template_areas": null,
            "grid_template_columns": null,
            "grid_template_rows": null,
            "height": null,
            "justify_content": null,
            "justify_items": null,
            "left": null,
            "margin": null,
            "max_height": null,
            "max_width": null,
            "min_height": null,
            "min_width": null,
            "object_fit": null,
            "object_position": null,
            "order": null,
            "overflow": null,
            "overflow_x": null,
            "overflow_y": null,
            "padding": null,
            "right": null,
            "top": null,
            "visibility": null,
            "width": null
          }
        },
        "5ab3abafd3564927866122984310ef89": {
          "model_module": "@jupyter-widgets/base",
          "model_name": "LayoutModel",
          "model_module_version": "1.2.0",
          "state": {
            "_model_module": "@jupyter-widgets/base",
            "_model_module_version": "1.2.0",
            "_model_name": "LayoutModel",
            "_view_count": null,
            "_view_module": "@jupyter-widgets/base",
            "_view_module_version": "1.2.0",
            "_view_name": "LayoutView",
            "align_content": null,
            "align_items": null,
            "align_self": null,
            "border": null,
            "bottom": null,
            "display": null,
            "flex": null,
            "flex_flow": null,
            "grid_area": null,
            "grid_auto_columns": null,
            "grid_auto_flow": null,
            "grid_auto_rows": null,
            "grid_column": null,
            "grid_gap": null,
            "grid_row": null,
            "grid_template_areas": null,
            "grid_template_columns": null,
            "grid_template_rows": null,
            "height": null,
            "justify_content": null,
            "justify_items": null,
            "left": null,
            "margin": null,
            "max_height": null,
            "max_width": null,
            "min_height": null,
            "min_width": null,
            "object_fit": null,
            "object_position": null,
            "order": null,
            "overflow": null,
            "overflow_x": null,
            "overflow_y": null,
            "padding": null,
            "right": null,
            "top": null,
            "visibility": null,
            "width": null
          }
        },
        "57c190cd297648eab355715866596593": {
          "model_module": "@jupyter-widgets/controls",
          "model_name": "DescriptionStyleModel",
          "model_module_version": "1.5.0",
          "state": {
            "_model_module": "@jupyter-widgets/controls",
            "_model_module_version": "1.5.0",
            "_model_name": "DescriptionStyleModel",
            "_view_count": null,
            "_view_module": "@jupyter-widgets/base",
            "_view_module_version": "1.2.0",
            "_view_name": "StyleView",
            "description_width": ""
          }
        },
        "a3fadc65587d4b8f9b04a6a277608c22": {
          "model_module": "@jupyter-widgets/base",
          "model_name": "LayoutModel",
          "model_module_version": "1.2.0",
          "state": {
            "_model_module": "@jupyter-widgets/base",
            "_model_module_version": "1.2.0",
            "_model_name": "LayoutModel",
            "_view_count": null,
            "_view_module": "@jupyter-widgets/base",
            "_view_module_version": "1.2.0",
            "_view_name": "LayoutView",
            "align_content": null,
            "align_items": null,
            "align_self": null,
            "border": null,
            "bottom": null,
            "display": null,
            "flex": null,
            "flex_flow": null,
            "grid_area": null,
            "grid_auto_columns": null,
            "grid_auto_flow": null,
            "grid_auto_rows": null,
            "grid_column": null,
            "grid_gap": null,
            "grid_row": null,
            "grid_template_areas": null,
            "grid_template_columns": null,
            "grid_template_rows": null,
            "height": null,
            "justify_content": null,
            "justify_items": null,
            "left": null,
            "margin": null,
            "max_height": null,
            "max_width": null,
            "min_height": null,
            "min_width": null,
            "object_fit": null,
            "object_position": null,
            "order": null,
            "overflow": null,
            "overflow_x": null,
            "overflow_y": null,
            "padding": null,
            "right": null,
            "top": null,
            "visibility": null,
            "width": null
          }
        },
        "cd720e456f8d43cab315dc4c0723969a": {
          "model_module": "@jupyter-widgets/controls",
          "model_name": "ProgressStyleModel",
          "model_module_version": "1.5.0",
          "state": {
            "_model_module": "@jupyter-widgets/controls",
            "_model_module_version": "1.5.0",
            "_model_name": "ProgressStyleModel",
            "_view_count": null,
            "_view_module": "@jupyter-widgets/base",
            "_view_module_version": "1.2.0",
            "_view_name": "StyleView",
            "bar_color": null,
            "description_width": ""
          }
        },
        "a8aa4080e33446098e394cd25158ac48": {
          "model_module": "@jupyter-widgets/base",
          "model_name": "LayoutModel",
          "model_module_version": "1.2.0",
          "state": {
            "_model_module": "@jupyter-widgets/base",
            "_model_module_version": "1.2.0",
            "_model_name": "LayoutModel",
            "_view_count": null,
            "_view_module": "@jupyter-widgets/base",
            "_view_module_version": "1.2.0",
            "_view_name": "LayoutView",
            "align_content": null,
            "align_items": null,
            "align_self": null,
            "border": null,
            "bottom": null,
            "display": null,
            "flex": null,
            "flex_flow": null,
            "grid_area": null,
            "grid_auto_columns": null,
            "grid_auto_flow": null,
            "grid_auto_rows": null,
            "grid_column": null,
            "grid_gap": null,
            "grid_row": null,
            "grid_template_areas": null,
            "grid_template_columns": null,
            "grid_template_rows": null,
            "height": null,
            "justify_content": null,
            "justify_items": null,
            "left": null,
            "margin": null,
            "max_height": null,
            "max_width": null,
            "min_height": null,
            "min_width": null,
            "object_fit": null,
            "object_position": null,
            "order": null,
            "overflow": null,
            "overflow_x": null,
            "overflow_y": null,
            "padding": null,
            "right": null,
            "top": null,
            "visibility": null,
            "width": null
          }
        },
        "11a2f192f37643c8aae71d24cb4de0c8": {
          "model_module": "@jupyter-widgets/controls",
          "model_name": "DescriptionStyleModel",
          "model_module_version": "1.5.0",
          "state": {
            "_model_module": "@jupyter-widgets/controls",
            "_model_module_version": "1.5.0",
            "_model_name": "DescriptionStyleModel",
            "_view_count": null,
            "_view_module": "@jupyter-widgets/base",
            "_view_module_version": "1.2.0",
            "_view_name": "StyleView",
            "description_width": ""
          }
        }
      }
    }
  },
  "nbformat": 4,
  "nbformat_minor": 5
}