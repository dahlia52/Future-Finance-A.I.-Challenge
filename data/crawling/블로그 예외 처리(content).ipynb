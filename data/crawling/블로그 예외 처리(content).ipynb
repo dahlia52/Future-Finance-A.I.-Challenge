{
 "cells": [
  {
   "cell_type": "code",
   "execution_count": 1,
   "id": "10f95129",
   "metadata": {
    "ExecuteTime": {
     "end_time": "2023-07-29T14:05:55.040956Z",
     "start_time": "2023-07-29T14:05:52.540251Z"
    }
   },
   "outputs": [],
   "source": [
    "import pandas as pd\n",
    "import requests\n",
    "from bs4 import BeautifulSoup\n",
    "import re"
   ]
  },
  {
   "cell_type": "code",
   "execution_count": 31,
   "id": "d595e9f5",
   "metadata": {
    "ExecuteTime": {
     "end_time": "2023-07-29T14:15:31.821452Z",
     "start_time": "2023-07-29T14:15:31.801506Z"
    }
   },
   "outputs": [],
   "source": [
    "def get_blog_post_content(url):\n",
    "    try:\n",
    "        response = requests.get(url)\n",
    "        response.raise_for_status()\n",
    "        \n",
    "        soup = BeautifulSoup(response.text, 'html.parser')\n",
    "        content = soup.find(\"meta\",property=\"og:description\")['content'] ## meta로 가져옴\n",
    "\n",
    "        if content:\n",
    "            return content\n",
    "\n",
    "    except requests.exceptions.RequestException as e:\n",
    "        print(f'Error: {e}')\n",
    "        return None"
   ]
  },
  {
   "cell_type": "markdown",
   "id": "fe54a651",
   "metadata": {},
   "source": [
    "# kb부동산"
   ]
  },
  {
   "cell_type": "code",
   "execution_count": 3,
   "id": "0711814f",
   "metadata": {
    "ExecuteTime": {
     "end_time": "2023-07-29T14:06:11.960089Z",
     "start_time": "2023-07-29T14:06:11.877314Z"
    }
   },
   "outputs": [],
   "source": [
    "est = pd.read_csv('blog_real_estate.csv')"
   ]
  },
  {
   "cell_type": "code",
   "execution_count": 5,
   "id": "a924c634",
   "metadata": {
    "ExecuteTime": {
     "end_time": "2023-07-29T14:06:27.611657Z",
     "start_time": "2023-07-29T14:06:27.576755Z"
    }
   },
   "outputs": [
    {
     "data": {
      "text/html": [
       "<div>\n",
       "<style scoped>\n",
       "    .dataframe tbody tr th:only-of-type {\n",
       "        vertical-align: middle;\n",
       "    }\n",
       "\n",
       "    .dataframe tbody tr th {\n",
       "        vertical-align: top;\n",
       "    }\n",
       "\n",
       "    .dataframe thead th {\n",
       "        text-align: right;\n",
       "    }\n",
       "</style>\n",
       "<table border=\"1\" class=\"dataframe\">\n",
       "  <thead>\n",
       "    <tr style=\"text-align: right;\">\n",
       "      <th></th>\n",
       "      <th>category</th>\n",
       "      <th>title</th>\n",
       "      <th>content</th>\n",
       "      <th>date</th>\n",
       "      <th>logNo</th>\n",
       "      <th>link</th>\n",
       "    </tr>\n",
       "  </thead>\n",
       "  <tbody>\n",
       "  </tbody>\n",
       "</table>\n",
       "</div>"
      ],
      "text/plain": [
       "Empty DataFrame\n",
       "Columns: [category, title, content, date, logNo, link]\n",
       "Index: []"
      ]
     },
     "execution_count": 5,
     "metadata": {},
     "output_type": "execute_result"
    }
   ],
   "source": [
    "est[est['content']==0]"
   ]
  },
  {
   "cell_type": "markdown",
   "id": "b49693f2",
   "metadata": {},
   "source": [
    "# kb뉴스"
   ]
  },
  {
   "cell_type": "code",
   "execution_count": 6,
   "id": "94622fb9",
   "metadata": {
    "ExecuteTime": {
     "end_time": "2023-07-29T14:06:53.720166Z",
     "start_time": "2023-07-29T14:06:53.676289Z"
    }
   },
   "outputs": [],
   "source": [
    "news = pd.read_csv('blog_news.csv')"
   ]
  },
  {
   "cell_type": "code",
   "execution_count": 34,
   "id": "4ac3b9fd",
   "metadata": {
    "ExecuteTime": {
     "end_time": "2023-07-29T14:16:00.300117Z",
     "start_time": "2023-07-29T14:16:00.290167Z"
    },
    "scrolled": true
   },
   "outputs": [],
   "source": [
    "except_link = news[news['content']=='0']['link']"
   ]
  },
  {
   "cell_type": "code",
   "execution_count": 37,
   "id": "f689e5a2",
   "metadata": {
    "ExecuteTime": {
     "end_time": "2023-07-29T14:17:21.008666Z",
     "start_time": "2023-07-29T14:17:12.912238Z"
    }
   },
   "outputs": [],
   "source": [
    "content_list = []\n",
    "for link in except_link:\n",
    "    content_list.append(get_blog_post_content(link))"
   ]
  },
  {
   "cell_type": "code",
   "execution_count": 40,
   "id": "e2ab2962",
   "metadata": {
    "ExecuteTime": {
     "end_time": "2023-07-29T14:19:52.597329Z",
     "start_time": "2023-07-29T14:19:52.587355Z"
    }
   },
   "outputs": [],
   "source": [
    "news.loc[news['content']=='0', 'content'] = content_list"
   ]
  },
  {
   "cell_type": "code",
   "execution_count": 41,
   "id": "e2e50556",
   "metadata": {
    "ExecuteTime": {
     "end_time": "2023-07-29T14:20:09.424966Z",
     "start_time": "2023-07-29T14:20:09.388061Z"
    }
   },
   "outputs": [
    {
     "data": {
      "text/html": [
       "<div>\n",
       "<style scoped>\n",
       "    .dataframe tbody tr th:only-of-type {\n",
       "        vertical-align: middle;\n",
       "    }\n",
       "\n",
       "    .dataframe tbody tr th {\n",
       "        vertical-align: top;\n",
       "    }\n",
       "\n",
       "    .dataframe thead th {\n",
       "        text-align: right;\n",
       "    }\n",
       "</style>\n",
       "<table border=\"1\" class=\"dataframe\">\n",
       "  <thead>\n",
       "    <tr style=\"text-align: right;\">\n",
       "      <th></th>\n",
       "      <th>category</th>\n",
       "      <th>title</th>\n",
       "      <th>content</th>\n",
       "      <th>date</th>\n",
       "      <th>logNo</th>\n",
       "      <th>link</th>\n",
       "    </tr>\n",
       "  </thead>\n",
       "  <tbody>\n",
       "  </tbody>\n",
       "</table>\n",
       "</div>"
      ],
      "text/plain": [
       "Empty DataFrame\n",
       "Columns: [category, title, content, date, logNo, link]\n",
       "Index: []"
      ]
     },
     "execution_count": 41,
     "metadata": {},
     "output_type": "execute_result"
    }
   ],
   "source": [
    "news[news['content']=='0']"
   ]
  },
  {
   "cell_type": "code",
   "execution_count": 42,
   "id": "4cf503a1",
   "metadata": {
    "ExecuteTime": {
     "end_time": "2023-07-29T14:20:14.997010Z",
     "start_time": "2023-07-29T14:20:14.937168Z"
    }
   },
   "outputs": [
    {
     "data": {
      "text/html": [
       "<div>\n",
       "<style scoped>\n",
       "    .dataframe tbody tr th:only-of-type {\n",
       "        vertical-align: middle;\n",
       "    }\n",
       "\n",
       "    .dataframe tbody tr th {\n",
       "        vertical-align: top;\n",
       "    }\n",
       "\n",
       "    .dataframe thead th {\n",
       "        text-align: right;\n",
       "    }\n",
       "</style>\n",
       "<table border=\"1\" class=\"dataframe\">\n",
       "  <thead>\n",
       "    <tr style=\"text-align: right;\">\n",
       "      <th></th>\n",
       "      <th>category</th>\n",
       "      <th>title</th>\n",
       "      <th>content</th>\n",
       "      <th>date</th>\n",
       "      <th>logNo</th>\n",
       "      <th>link</th>\n",
       "    </tr>\n",
       "  </thead>\n",
       "  <tbody>\n",
       "    <tr>\n",
       "      <th>0</th>\n",
       "      <td>KB뉴스</td>\n",
       "      <td>저녁 6시까지 문 활짝! KB국민은행 9 to 6 Bank</td>\n",
       "      <td>고객만족을 위한 더더더! KB국민은행 9 to 6 Bank ​ 소중한 점심시간을 할...</td>\n",
       "      <td>2022. 3. 23. 17:32</td>\n",
       "      <td>222680930411</td>\n",
       "      <td>https://blog.naver.com/PostView.naver?blogId=y...</td>\n",
       "    </tr>\n",
       "    <tr>\n",
       "      <th>1</th>\n",
       "      <td>KB뉴스</td>\n",
       "      <td>금융권 취업의 길, 여기인가? '2021 금융권 공동채용 박람회'</td>\n",
       "      <td>​ 오는 9월 8일부터 9일 이틀간 비대면 온라인 방식으로 '2021 금융권 공동 ...</td>\n",
       "      <td>2021. 8. 4. 14:54</td>\n",
       "      <td>222456709536</td>\n",
       "      <td>https://blog.naver.com/PostView.naver?blogId=y...</td>\n",
       "    </tr>\n",
       "    <tr>\n",
       "      <th>2</th>\n",
       "      <td>KB뉴스</td>\n",
       "      <td>KB국민은행 사회적 거리두기 단계 격상으로 인한 영업시간 단축 안내</td>\n",
       "      <td>​ ​ 사회적 거리두기 단계 격상으로 인한 영업시간 단축 안내 ​ 코로나19의 급속...</td>\n",
       "      <td>2021. 7. 21. 17:40</td>\n",
       "      <td>222439825872</td>\n",
       "      <td>https://blog.naver.com/PostView.naver?blogId=y...</td>\n",
       "    </tr>\n",
       "    <tr>\n",
       "      <th>3</th>\n",
       "      <td>KB뉴스</td>\n",
       "      <td>KB는 R.E.N.E.W한다!</td>\n",
       "      <td>​ ​ ​ KB금융그룹은 2021년 경영전략 키워드로 ‘R.E.N.E.W 2021’...</td>\n",
       "      <td>2021. 3. 3. 15:00</td>\n",
       "      <td>222263027230</td>\n",
       "      <td>https://blog.naver.com/PostView.naver?blogId=y...</td>\n",
       "    </tr>\n",
       "    <tr>\n",
       "      <th>4</th>\n",
       "      <td>KB뉴스</td>\n",
       "      <td>KB골든라이프 센터장이 말하는 은퇴 준비를 지금 당장 시작해야 하는 이유</td>\n",
       "      <td>​ 대한민국 직장인 평균 퇴직 연령 50세! 더 이상 은퇴는 먼 미래의 이야기가 아...</td>\n",
       "      <td>2020. 12. 24. 10:38</td>\n",
       "      <td>222183827599</td>\n",
       "      <td>https://blog.naver.com/PostView.naver?blogId=y...</td>\n",
       "    </tr>\n",
       "    <tr>\n",
       "      <th>...</th>\n",
       "      <td>...</td>\n",
       "      <td>...</td>\n",
       "      <td>...</td>\n",
       "      <td>...</td>\n",
       "      <td>...</td>\n",
       "      <td>...</td>\n",
       "    </tr>\n",
       "    <tr>\n",
       "      <th>110</th>\n",
       "      <td>KB뉴스</td>\n",
       "      <td>KB국민은행을 대표하는 Star들과 함께 만들어갈 신개념 디지털 공간, KB★Sta...</td>\n",
       "      <td>KB★Stargram은 KB국민은행의 광고모델(Star)들과 함께 사진을 찍는 듯한...</td>\n",
       "      <td>2018. 8. 22. 10:29</td>\n",
       "      <td>221343575471</td>\n",
       "      <td>https://blog.naver.com/PostView.naver?blogId=y...</td>\n",
       "    </tr>\n",
       "    <tr>\n",
       "      <th>111</th>\n",
       "      <td>KB뉴스</td>\n",
       "      <td>KB블로그지기, Liiv콘서트 다녀오다!</td>\n",
       "      <td>8월 4일 저번 주 토요일! 올림픽공원 체조경기장에서 열린 2018KB국민은행 Li...</td>\n",
       "      <td>2018. 8. 7. 14:57</td>\n",
       "      <td>221334239311</td>\n",
       "      <td>https://blog.naver.com/PostView.naver?blogId=y...</td>\n",
       "    </tr>\n",
       "    <tr>\n",
       "      <th>112</th>\n",
       "      <td>KB뉴스</td>\n",
       "      <td>“2018 대한민국 소비자신뢰 대표브랜드 대상” KB국민은행 12년 연속 선정!</td>\n",
       "      <td>스마트 쇼퍼라는 단어가 생길 정도로&amp;nbsp;깐깐하고 똑똑한 대한민국 소비자들에게 ...</td>\n",
       "      <td>2018. 7. 30. 10:56</td>\n",
       "      <td>221329207174</td>\n",
       "      <td>https://blog.naver.com/PostView.naver?blogId=y...</td>\n",
       "    </tr>\n",
       "    <tr>\n",
       "      <th>113</th>\n",
       "      <td>KB뉴스</td>\n",
       "      <td>핫플레이스? 힙플레이스! 2018 KB국민은행 리브콘서트</td>\n",
       "      <td>우리가 놀 돈이 없지, 흥이 없냐! 누구보다 잘 놀 자신 있는 인싸들 모여라~ 20...</td>\n",
       "      <td>2018. 7. 25. 11:09</td>\n",
       "      <td>221326083933</td>\n",
       "      <td>https://blog.naver.com/PostView.naver?blogId=y...</td>\n",
       "    </tr>\n",
       "    <tr>\n",
       "      <th>114</th>\n",
       "      <td>KB뉴스</td>\n",
       "      <td>[당첨자 발표] KB국민은행 공식 블로그 오픈 이벤트 당첨자 발표!</td>\n",
       "      <td>KB국민은행 공식 블로그 오픈을 기념하여 지난 7월 11일부터 18일까지 이벤트가 ...</td>\n",
       "      <td>2018. 7. 20. 11:27</td>\n",
       "      <td>221322752909</td>\n",
       "      <td>https://blog.naver.com/PostView.naver?blogId=y...</td>\n",
       "    </tr>\n",
       "  </tbody>\n",
       "</table>\n",
       "<p>115 rows × 6 columns</p>\n",
       "</div>"
      ],
      "text/plain": [
       "    category                                              title  \\\n",
       "0       KB뉴스                   저녁 6시까지 문 활짝! KB국민은행 9 to 6 Bank   \n",
       "1       KB뉴스               금융권 취업의 길, 여기인가? '2021 금융권 공동채용 박람회'   \n",
       "2       KB뉴스              KB국민은행 사회적 거리두기 단계 격상으로 인한 영업시간 단축 안내   \n",
       "3       KB뉴스                                   KB는 R.E.N.E.W한다!   \n",
       "4       KB뉴스           KB골든라이프 센터장이 말하는 은퇴 준비를 지금 당장 시작해야 하는 이유   \n",
       "..       ...                                                ...   \n",
       "110     KB뉴스  KB국민은행을 대표하는 Star들과 함께 만들어갈 신개념 디지털 공간, KB★Sta...   \n",
       "111     KB뉴스                             KB블로그지기, Liiv콘서트 다녀오다!   \n",
       "112     KB뉴스       “2018 대한민국 소비자신뢰 대표브랜드 대상” KB국민은행 12년 연속 선정!   \n",
       "113     KB뉴스                    핫플레이스? 힙플레이스! 2018 KB국민은행 리브콘서트   \n",
       "114     KB뉴스              [당첨자 발표] KB국민은행 공식 블로그 오픈 이벤트 당첨자 발표!   \n",
       "\n",
       "                                               content                 date  \\\n",
       "0    고객만족을 위한 더더더! KB국민은행 9 to 6 Bank ​ 소중한 점심시간을 할...   2022. 3. 23. 17:32   \n",
       "1    ​ 오는 9월 8일부터 9일 이틀간 비대면 온라인 방식으로 '2021 금융권 공동 ...    2021. 8. 4. 14:54   \n",
       "2    ​ ​ 사회적 거리두기 단계 격상으로 인한 영업시간 단축 안내 ​ 코로나19의 급속...   2021. 7. 21. 17:40   \n",
       "3    ​ ​ ​ KB금융그룹은 2021년 경영전략 키워드로 ‘R.E.N.E.W 2021’...    2021. 3. 3. 15:00   \n",
       "4    ​ 대한민국 직장인 평균 퇴직 연령 50세! 더 이상 은퇴는 먼 미래의 이야기가 아...  2020. 12. 24. 10:38   \n",
       "..                                                 ...                  ...   \n",
       "110  KB★Stargram은 KB국민은행의 광고모델(Star)들과 함께 사진을 찍는 듯한...   2018. 8. 22. 10:29   \n",
       "111  8월 4일 저번 주 토요일! 올림픽공원 체조경기장에서 열린 2018KB국민은행 Li...    2018. 8. 7. 14:57   \n",
       "112  스마트 쇼퍼라는 단어가 생길 정도로&nbsp;깐깐하고 똑똑한 대한민국 소비자들에게 ...   2018. 7. 30. 10:56   \n",
       "113  우리가 놀 돈이 없지, 흥이 없냐! 누구보다 잘 놀 자신 있는 인싸들 모여라~ 20...   2018. 7. 25. 11:09   \n",
       "114  KB국민은행 공식 블로그 오픈을 기념하여 지난 7월 11일부터 18일까지 이벤트가 ...   2018. 7. 20. 11:27   \n",
       "\n",
       "            logNo                                               link  \n",
       "0    222680930411  https://blog.naver.com/PostView.naver?blogId=y...  \n",
       "1    222456709536  https://blog.naver.com/PostView.naver?blogId=y...  \n",
       "2    222439825872  https://blog.naver.com/PostView.naver?blogId=y...  \n",
       "3    222263027230  https://blog.naver.com/PostView.naver?blogId=y...  \n",
       "4    222183827599  https://blog.naver.com/PostView.naver?blogId=y...  \n",
       "..            ...                                                ...  \n",
       "110  221343575471  https://blog.naver.com/PostView.naver?blogId=y...  \n",
       "111  221334239311  https://blog.naver.com/PostView.naver?blogId=y...  \n",
       "112  221329207174  https://blog.naver.com/PostView.naver?blogId=y...  \n",
       "113  221326083933  https://blog.naver.com/PostView.naver?blogId=y...  \n",
       "114  221322752909  https://blog.naver.com/PostView.naver?blogId=y...  \n",
       "\n",
       "[115 rows x 6 columns]"
      ]
     },
     "execution_count": 42,
     "metadata": {},
     "output_type": "execute_result"
    }
   ],
   "source": [
    "news"
   ]
  },
  {
   "cell_type": "markdown",
   "id": "5bc2ddf0",
   "metadata": {},
   "source": [
    "#  kb상품"
   ]
  },
  {
   "cell_type": "code",
   "execution_count": 43,
   "id": "971a37d6",
   "metadata": {
    "ExecuteTime": {
     "end_time": "2023-07-29T14:22:27.643785Z",
     "start_time": "2023-07-29T14:22:27.627827Z"
    }
   },
   "outputs": [],
   "source": [
    "products = pd.read_csv('blog_products.csv')"
   ]
  },
  {
   "cell_type": "code",
   "execution_count": 50,
   "id": "f930fb02",
   "metadata": {
    "ExecuteTime": {
     "end_time": "2023-07-29T14:23:43.583436Z",
     "start_time": "2023-07-29T14:23:43.556508Z"
    }
   },
   "outputs": [
    {
     "data": {
      "text/html": [
       "<div>\n",
       "<style scoped>\n",
       "    .dataframe tbody tr th:only-of-type {\n",
       "        vertical-align: middle;\n",
       "    }\n",
       "\n",
       "    .dataframe tbody tr th {\n",
       "        vertical-align: top;\n",
       "    }\n",
       "\n",
       "    .dataframe thead th {\n",
       "        text-align: right;\n",
       "    }\n",
       "</style>\n",
       "<table border=\"1\" class=\"dataframe\">\n",
       "  <thead>\n",
       "    <tr style=\"text-align: right;\">\n",
       "      <th></th>\n",
       "      <th>category</th>\n",
       "      <th>title</th>\n",
       "      <th>content</th>\n",
       "      <th>date</th>\n",
       "      <th>logNo</th>\n",
       "      <th>link</th>\n",
       "    </tr>\n",
       "  </thead>\n",
       "  <tbody>\n",
       "    <tr>\n",
       "      <th>0</th>\n",
       "      <td>KB상품</td>\n",
       "      <td>퇴근하고도 은행 방문이 가능하다? 7시까지 문여는 KB국민은행 영업시간 특화 점포</td>\n",
       "      <td>0</td>\n",
       "      <td>2018. 11. 30. 10:28</td>\n",
       "      <td>221409300930</td>\n",
       "      <td>https://blog.naver.com/PostView.naver?blogId=y...</td>\n",
       "    </tr>\n",
       "  </tbody>\n",
       "</table>\n",
       "</div>"
      ],
      "text/plain": [
       "  category                                          title  content  \\\n",
       "0     KB상품  퇴근하고도 은행 방문이 가능하다? 7시까지 문여는 KB국민은행 영업시간 특화 점포        0   \n",
       "\n",
       "                  date         logNo  \\\n",
       "0  2018. 11. 30. 10:28  221409300930   \n",
       "\n",
       "                                                link  \n",
       "0  https://blog.naver.com/PostView.naver?blogId=y...  "
      ]
     },
     "execution_count": 50,
     "metadata": {},
     "output_type": "execute_result"
    }
   ],
   "source": [
    "products[products['content']==0]"
   ]
  },
  {
   "cell_type": "code",
   "execution_count": 48,
   "id": "d56e22fa",
   "metadata": {
    "ExecuteTime": {
     "end_time": "2023-07-29T14:23:39.417668Z",
     "start_time": "2023-07-29T14:23:38.766411Z"
    }
   },
   "outputs": [],
   "source": [
    "except_link = products[products['content']==0]['link']"
   ]
  },
  {
   "cell_type": "code",
   "execution_count": 51,
   "id": "0cd78e84",
   "metadata": {
    "ExecuteTime": {
     "end_time": "2023-07-29T14:24:03.381123Z",
     "start_time": "2023-07-29T14:24:02.888445Z"
    }
   },
   "outputs": [],
   "source": [
    "content_list = []\n",
    "for link in except_link:\n",
    "    content_list.append(get_blog_post_content(link))"
   ]
  },
  {
   "cell_type": "code",
   "execution_count": 52,
   "id": "629016e3",
   "metadata": {
    "ExecuteTime": {
     "end_time": "2023-07-29T14:24:54.734489Z",
     "start_time": "2023-07-29T14:24:54.716542Z"
    }
   },
   "outputs": [],
   "source": [
    "products.loc[products['content']==0, 'content'] = content_list"
   ]
  },
  {
   "cell_type": "code",
   "execution_count": 53,
   "id": "c1a65846",
   "metadata": {
    "ExecuteTime": {
     "end_time": "2023-07-29T14:24:57.255398Z",
     "start_time": "2023-07-29T14:24:57.218497Z"
    }
   },
   "outputs": [
    {
     "data": {
      "text/html": [
       "<div>\n",
       "<style scoped>\n",
       "    .dataframe tbody tr th:only-of-type {\n",
       "        vertical-align: middle;\n",
       "    }\n",
       "\n",
       "    .dataframe tbody tr th {\n",
       "        vertical-align: top;\n",
       "    }\n",
       "\n",
       "    .dataframe thead th {\n",
       "        text-align: right;\n",
       "    }\n",
       "</style>\n",
       "<table border=\"1\" class=\"dataframe\">\n",
       "  <thead>\n",
       "    <tr style=\"text-align: right;\">\n",
       "      <th></th>\n",
       "      <th>category</th>\n",
       "      <th>title</th>\n",
       "      <th>content</th>\n",
       "      <th>date</th>\n",
       "      <th>logNo</th>\n",
       "      <th>link</th>\n",
       "    </tr>\n",
       "  </thead>\n",
       "  <tbody>\n",
       "    <tr>\n",
       "      <th>0</th>\n",
       "      <td>KB상품</td>\n",
       "      <td>퇴근하고도 은행 방문이 가능하다? 7시까지 문여는 KB국민은행 영업시간 특화 점포</td>\n",
       "      <td>Q.직장인에게 은행이란…? A.점심시간에 가자니 사람이 많아서 못 가고, 퇴근 후에...</td>\n",
       "      <td>2018. 11. 30. 10:28</td>\n",
       "      <td>221409300930</td>\n",
       "      <td>https://blog.naver.com/PostView.naver?blogId=y...</td>\n",
       "    </tr>\n",
       "  </tbody>\n",
       "</table>\n",
       "</div>"
      ],
      "text/plain": [
       "  category                                          title  \\\n",
       "0     KB상품  퇴근하고도 은행 방문이 가능하다? 7시까지 문여는 KB국민은행 영업시간 특화 점포   \n",
       "\n",
       "                                             content                 date  \\\n",
       "0  Q.직장인에게 은행이란…? A.점심시간에 가자니 사람이 많아서 못 가고, 퇴근 후에...  2018. 11. 30. 10:28   \n",
       "\n",
       "          logNo                                               link  \n",
       "0  221409300930  https://blog.naver.com/PostView.naver?blogId=y...  "
      ]
     },
     "execution_count": 53,
     "metadata": {},
     "output_type": "execute_result"
    }
   ],
   "source": [
    "products"
   ]
  },
  {
   "cell_type": "markdown",
   "id": "d5922551",
   "metadata": {},
   "source": [
    "# kb라이프"
   ]
  },
  {
   "cell_type": "code",
   "execution_count": 54,
   "id": "2b687f7a",
   "metadata": {
    "ExecuteTime": {
     "end_time": "2023-07-29T14:25:26.878722Z",
     "start_time": "2023-07-29T14:25:26.654323Z"
    }
   },
   "outputs": [],
   "source": [
    "life = pd.read_csv('blog_life.csv')"
   ]
  },
  {
   "cell_type": "code",
   "execution_count": 56,
   "id": "0e190255",
   "metadata": {
    "ExecuteTime": {
     "end_time": "2023-07-29T14:25:47.018830Z",
     "start_time": "2023-07-29T14:25:46.965967Z"
    },
    "scrolled": true
   },
   "outputs": [
    {
     "data": {
      "text/html": [
       "<div>\n",
       "<style scoped>\n",
       "    .dataframe tbody tr th:only-of-type {\n",
       "        vertical-align: middle;\n",
       "    }\n",
       "\n",
       "    .dataframe tbody tr th {\n",
       "        vertical-align: top;\n",
       "    }\n",
       "\n",
       "    .dataframe thead th {\n",
       "        text-align: right;\n",
       "    }\n",
       "</style>\n",
       "<table border=\"1\" class=\"dataframe\">\n",
       "  <thead>\n",
       "    <tr style=\"text-align: right;\">\n",
       "      <th></th>\n",
       "      <th>category</th>\n",
       "      <th>title</th>\n",
       "      <th>content</th>\n",
       "      <th>date</th>\n",
       "      <th>logNo</th>\n",
       "      <th>link</th>\n",
       "    </tr>\n",
       "  </thead>\n",
       "  <tbody>\n",
       "    <tr>\n",
       "      <th>324</th>\n",
       "      <td>KB라이프</td>\n",
       "      <td>지갑 잃어버렸을 때 어떻게 해야 할까? 신분증, 신용카드 분실신고 등 지갑 분실 대처법</td>\n",
       "      <td>0</td>\n",
       "      <td>2018. 12. 12. 10:00</td>\n",
       "      <td>221417163713</td>\n",
       "      <td>https://blog.naver.com/PostView.naver?blogId=y...</td>\n",
       "    </tr>\n",
       "    <tr>\n",
       "      <th>325</th>\n",
       "      <td>KB라이프</td>\n",
       "      <td>올 겨울 자동차 유지비 절약하는 자동차 셀프 관리법!</td>\n",
       "      <td>0</td>\n",
       "      <td>2018. 12. 7. 11:00</td>\n",
       "      <td>221414253155</td>\n",
       "      <td>https://blog.naver.com/PostView.naver?blogId=y...</td>\n",
       "    </tr>\n",
       "    <tr>\n",
       "      <th>326</th>\n",
       "      <td>KB라이프</td>\n",
       "      <td>리퍼브매장? 대여서비스? 저렴한 가구, 아기옷 구매, 장난감 대여, 못난이 농산물 ...</td>\n",
       "      <td>0</td>\n",
       "      <td>2018. 11. 14. 10:00</td>\n",
       "      <td>221397727177</td>\n",
       "      <td>https://blog.naver.com/PostView.naver?blogId=y...</td>\n",
       "    </tr>\n",
       "    <tr>\n",
       "      <th>327</th>\n",
       "      <td>KB라이프</td>\n",
       "      <td>이젠 현재의 나를 위해 소비한다! 요즘 변화하는 소비 트렌드 알아보기!</td>\n",
       "      <td>0</td>\n",
       "      <td>2018. 11. 8. 10:48</td>\n",
       "      <td>221394116751</td>\n",
       "      <td>https://blog.naver.com/PostView.naver?blogId=y...</td>\n",
       "    </tr>\n",
       "    <tr>\n",
       "      <th>328</th>\n",
       "      <td>KB라이프</td>\n",
       "      <td>요즘엔 역세권 말고 스세권? 나는 O세권에 산다! O세권 부동산 신조어 소개</td>\n",
       "      <td>0</td>\n",
       "      <td>2018. 11. 2. 10:36</td>\n",
       "      <td>221390047566</td>\n",
       "      <td>https://blog.naver.com/PostView.naver?blogId=y...</td>\n",
       "    </tr>\n",
       "    <tr>\n",
       "      <th>329</th>\n",
       "      <td>KB라이프</td>\n",
       "      <td>숫자 입력만 하면 끝! 가계부 쓰는 법과 편리한 엑셀 가계부 양식</td>\n",
       "      <td>0</td>\n",
       "      <td>2018. 11. 1. 10:34</td>\n",
       "      <td>221389314319</td>\n",
       "      <td>https://blog.naver.com/PostView.naver?blogId=y...</td>\n",
       "    </tr>\n",
       "    <tr>\n",
       "      <th>330</th>\n",
       "      <td>KB라이프</td>\n",
       "      <td>알쓸신경! 알아두면 쓸데 있는 신비한 경제 사전! 금융의 날 맞이 재미있는 경제 시...</td>\n",
       "      <td>0</td>\n",
       "      <td>2018. 10. 30. 10:00</td>\n",
       "      <td>221387414380</td>\n",
       "      <td>https://blog.naver.com/PostView.naver?blogId=y...</td>\n",
       "    </tr>\n",
       "    <tr>\n",
       "      <th>331</th>\n",
       "      <td>KB라이프</td>\n",
       "      <td>2018 슈퍼펫쇼를 다녀오다!</td>\n",
       "      <td>0</td>\n",
       "      <td>2018. 10. 23. 11:00</td>\n",
       "      <td>221382561401</td>\n",
       "      <td>https://blog.naver.com/PostView.naver?blogId=y...</td>\n",
       "    </tr>\n",
       "    <tr>\n",
       "      <th>332</th>\n",
       "      <td>KB라이프</td>\n",
       "      <td>감쪽같이 속을 수 있는 위험한 스미싱 문자! 그 종류와 대처법을 알아보자</td>\n",
       "      <td>0</td>\n",
       "      <td>2018. 10. 22. 10:00</td>\n",
       "      <td>221380636866</td>\n",
       "      <td>https://blog.naver.com/PostView.naver?blogId=y...</td>\n",
       "    </tr>\n",
       "    <tr>\n",
       "      <th>333</th>\n",
       "      <td>KB라이프</td>\n",
       "      <td>취준생, 직장인에게 모두 도움 되는 내일배움카드 알아보기!</td>\n",
       "      <td>0</td>\n",
       "      <td>2018. 10. 17. 16:53</td>\n",
       "      <td>221379514954</td>\n",
       "      <td>https://blog.naver.com/PostView.naver?blogId=y...</td>\n",
       "    </tr>\n",
       "    <tr>\n",
       "      <th>334</th>\n",
       "      <td>KB라이프</td>\n",
       "      <td>한국의 퍼거슨, 김학범 감독님을 만나다!</td>\n",
       "      <td>0</td>\n",
       "      <td>2018. 10. 13. 12:00</td>\n",
       "      <td>221376195582</td>\n",
       "      <td>https://blog.naver.com/PostView.naver?blogId=y...</td>\n",
       "    </tr>\n",
       "    <tr>\n",
       "      <th>335</th>\n",
       "      <td>KB라이프</td>\n",
       "      <td>임차인? 임대인? 집 구할 때 꼭 알아야 할 부동산 계약 기초 용어 !</td>\n",
       "      <td>0</td>\n",
       "      <td>2018. 10. 2. 10:12</td>\n",
       "      <td>221369367464</td>\n",
       "      <td>https://blog.naver.com/PostView.naver?blogId=y...</td>\n",
       "    </tr>\n",
       "    <tr>\n",
       "      <th>336</th>\n",
       "      <td>KB라이프</td>\n",
       "      <td>추석에 뵙게 될 양가 친척들! 처가호칭, 시댁호칭, 친척호칭은 어떻게 될까? 헷갈리...</td>\n",
       "      <td>0</td>\n",
       "      <td>2018. 9. 20. 10:17</td>\n",
       "      <td>221362584996</td>\n",
       "      <td>https://blog.naver.com/PostView.naver?blogId=y...</td>\n",
       "    </tr>\n",
       "    <tr>\n",
       "      <th>337</th>\n",
       "      <td>KB라이프</td>\n",
       "      <td>반짝반짝 나만의 하나뿐인 에어팟 키링 만들기 (feat. 앨리스 키링, 스누피 키링)</td>\n",
       "      <td>0</td>\n",
       "      <td>2018. 9. 18. 10:23</td>\n",
       "      <td>221361183245</td>\n",
       "      <td>https://blog.naver.com/PostView.naver?blogId=y...</td>\n",
       "    </tr>\n",
       "    <tr>\n",
       "      <th>338</th>\n",
       "      <td>KB라이프</td>\n",
       "      <td>가까운 곳으로 떠나는 서울 근교 여행! 경기도 근처 섬 여행 추천</td>\n",
       "      <td>0</td>\n",
       "      <td>2018. 9. 12. 11:42</td>\n",
       "      <td>221357381740</td>\n",
       "      <td>https://blog.naver.com/PostView.naver?blogId=y...</td>\n",
       "    </tr>\n",
       "    <tr>\n",
       "      <th>339</th>\n",
       "      <td>KB라이프</td>\n",
       "      <td>무거운 가전제품 어떻게 처리하지? 폐가전 무료 수거하는 법</td>\n",
       "      <td>0</td>\n",
       "      <td>2018. 9. 3. 12:00</td>\n",
       "      <td>221351348754</td>\n",
       "      <td>https://blog.naver.com/PostView.naver?blogId=y...</td>\n",
       "    </tr>\n",
       "    <tr>\n",
       "      <th>340</th>\n",
       "      <td>KB라이프</td>\n",
       "      <td>요즘 새롭게 뜨고 있는 인도네시아 시장을 알아보자!</td>\n",
       "      <td>0</td>\n",
       "      <td>2018. 8. 30. 10:38</td>\n",
       "      <td>221348900290</td>\n",
       "      <td>https://blog.naver.com/PostView.naver?blogId=y...</td>\n",
       "    </tr>\n",
       "    <tr>\n",
       "      <th>341</th>\n",
       "      <td>KB라이프</td>\n",
       "      <td>휴가 뒤 우울한 당신, 직장인 휴가후유증 극복하기!</td>\n",
       "      <td>0</td>\n",
       "      <td>2018. 8. 23. 14:33</td>\n",
       "      <td>221344452737</td>\n",
       "      <td>https://blog.naver.com/PostView.naver?blogId=y...</td>\n",
       "    </tr>\n",
       "    <tr>\n",
       "      <th>342</th>\n",
       "      <td>KB라이프</td>\n",
       "      <td>리브콘 비하인드 영상 대방출</td>\n",
       "      <td>0</td>\n",
       "      <td>2018. 8. 17. 14:55</td>\n",
       "      <td>221340643084</td>\n",
       "      <td>https://blog.naver.com/PostView.naver?blogId=y...</td>\n",
       "    </tr>\n",
       "    <tr>\n",
       "      <th>343</th>\n",
       "      <td>KB라이프</td>\n",
       "      <td>KB블로그지기를 울린 영상(feat.도연&amp;유정)</td>\n",
       "      <td>0</td>\n",
       "      <td>2018. 8. 14. 14:19</td>\n",
       "      <td>221338675669</td>\n",
       "      <td>https://blog.naver.com/PostView.naver?blogId=y...</td>\n",
       "    </tr>\n",
       "    <tr>\n",
       "      <th>344</th>\n",
       "      <td>KB라이프</td>\n",
       "      <td>통학러, 통근러 주목~! 지하철 비용 아끼는 꿀이득 지하철 정기권</td>\n",
       "      <td>0</td>\n",
       "      <td>2018. 8. 9. 14:00</td>\n",
       "      <td>221335500728</td>\n",
       "      <td>https://blog.naver.com/PostView.naver?blogId=y...</td>\n",
       "    </tr>\n",
       "    <tr>\n",
       "      <th>345</th>\n",
       "      <td>KB라이프</td>\n",
       "      <td>자취방 구할 때 이것만은 꼭! 자취방 점검 체크리스트 팁!</td>\n",
       "      <td>0</td>\n",
       "      <td>2018. 8. 1. 10:30</td>\n",
       "      <td>221330503092</td>\n",
       "      <td>https://blog.naver.com/PostView.naver?blogId=y...</td>\n",
       "    </tr>\n",
       "    <tr>\n",
       "      <th>346</th>\n",
       "      <td>KB라이프</td>\n",
       "      <td>삼복더위에는 잘 먹고 힘내기! 더위 싹 날아가는 이열치열 복날 보양식!</td>\n",
       "      <td>0</td>\n",
       "      <td>2018. 7. 27. 10:26</td>\n",
       "      <td>221327560643</td>\n",
       "      <td>https://blog.naver.com/PostView.naver?blogId=y...</td>\n",
       "    </tr>\n",
       "    <tr>\n",
       "      <th>347</th>\n",
       "      <td>KB라이프</td>\n",
       "      <td>첫 직장, 첫 월급! 사회 초년생들을 위한 돈 관리 꿀팁!</td>\n",
       "      <td>0</td>\n",
       "      <td>2018. 7. 18. 12:08</td>\n",
       "      <td>221321384305</td>\n",
       "      <td>https://blog.naver.com/PostView.naver?blogId=y...</td>\n",
       "    </tr>\n",
       "    <tr>\n",
       "      <th>348</th>\n",
       "      <td>KB라이프</td>\n",
       "      <td>프로여행러의 여름 해외여행지 추천</td>\n",
       "      <td>0</td>\n",
       "      <td>2018. 7. 13. 11:33</td>\n",
       "      <td>221318233020</td>\n",
       "      <td>https://blog.naver.com/PostView.naver?blogId=y...</td>\n",
       "    </tr>\n",
       "  </tbody>\n",
       "</table>\n",
       "</div>"
      ],
      "text/plain": [
       "    category                                              title content  \\\n",
       "324    KB라이프   지갑 잃어버렸을 때 어떻게 해야 할까? 신분증, 신용카드 분실신고 등 지갑 분실 대처법       0   \n",
       "325    KB라이프                      올 겨울 자동차 유지비 절약하는 자동차 셀프 관리법!       0   \n",
       "326    KB라이프  리퍼브매장? 대여서비스? 저렴한 가구, 아기옷 구매, 장난감 대여, 못난이 농산물 ...       0   \n",
       "327    KB라이프            이젠 현재의 나를 위해 소비한다! 요즘 변화하는 소비 트렌드 알아보기!       0   \n",
       "328    KB라이프         요즘엔 역세권 말고 스세권? 나는 O세권에 산다! O세권 부동산 신조어 소개       0   \n",
       "329    KB라이프               숫자 입력만 하면 끝! 가계부 쓰는 법과 편리한 엑셀 가계부 양식       0   \n",
       "330    KB라이프  알쓸신경! 알아두면 쓸데 있는 신비한 경제 사전! 금융의 날 맞이 재미있는 경제 시...       0   \n",
       "331    KB라이프                                   2018 슈퍼펫쇼를 다녀오다!       0   \n",
       "332    KB라이프           감쪽같이 속을 수 있는 위험한 스미싱 문자! 그 종류와 대처법을 알아보자       0   \n",
       "333    KB라이프                   취준생, 직장인에게 모두 도움 되는 내일배움카드 알아보기!       0   \n",
       "334    KB라이프                             한국의 퍼거슨, 김학범 감독님을 만나다!       0   \n",
       "335    KB라이프            임차인? 임대인? 집 구할 때 꼭 알아야 할 부동산 계약 기초 용어 !       0   \n",
       "336    KB라이프  추석에 뵙게 될 양가 친척들! 처가호칭, 시댁호칭, 친척호칭은 어떻게 될까? 헷갈리...       0   \n",
       "337    KB라이프    반짝반짝 나만의 하나뿐인 에어팟 키링 만들기 (feat. 앨리스 키링, 스누피 키링)       0   \n",
       "338    KB라이프               가까운 곳으로 떠나는 서울 근교 여행! 경기도 근처 섬 여행 추천       0   \n",
       "339    KB라이프                   무거운 가전제품 어떻게 처리하지? 폐가전 무료 수거하는 법       0   \n",
       "340    KB라이프                       요즘 새롭게 뜨고 있는 인도네시아 시장을 알아보자!       0   \n",
       "341    KB라이프                       휴가 뒤 우울한 당신, 직장인 휴가후유증 극복하기!       0   \n",
       "342    KB라이프                                    리브콘 비하인드 영상 대방출       0   \n",
       "343    KB라이프                         KB블로그지기를 울린 영상(feat.도연&유정)       0   \n",
       "344    KB라이프               통학러, 통근러 주목~! 지하철 비용 아끼는 꿀이득 지하철 정기권       0   \n",
       "345    KB라이프                   자취방 구할 때 이것만은 꼭! 자취방 점검 체크리스트 팁!       0   \n",
       "346    KB라이프            삼복더위에는 잘 먹고 힘내기! 더위 싹 날아가는 이열치열 복날 보양식!       0   \n",
       "347    KB라이프                   첫 직장, 첫 월급! 사회 초년생들을 위한 돈 관리 꿀팁!       0   \n",
       "348    KB라이프                                 프로여행러의 여름 해외여행지 추천       0   \n",
       "\n",
       "                    date         logNo  \\\n",
       "324  2018. 12. 12. 10:00  221417163713   \n",
       "325   2018. 12. 7. 11:00  221414253155   \n",
       "326  2018. 11. 14. 10:00  221397727177   \n",
       "327   2018. 11. 8. 10:48  221394116751   \n",
       "328   2018. 11. 2. 10:36  221390047566   \n",
       "329   2018. 11. 1. 10:34  221389314319   \n",
       "330  2018. 10. 30. 10:00  221387414380   \n",
       "331  2018. 10. 23. 11:00  221382561401   \n",
       "332  2018. 10. 22. 10:00  221380636866   \n",
       "333  2018. 10. 17. 16:53  221379514954   \n",
       "334  2018. 10. 13. 12:00  221376195582   \n",
       "335   2018. 10. 2. 10:12  221369367464   \n",
       "336   2018. 9. 20. 10:17  221362584996   \n",
       "337   2018. 9. 18. 10:23  221361183245   \n",
       "338   2018. 9. 12. 11:42  221357381740   \n",
       "339    2018. 9. 3. 12:00  221351348754   \n",
       "340   2018. 8. 30. 10:38  221348900290   \n",
       "341   2018. 8. 23. 14:33  221344452737   \n",
       "342   2018. 8. 17. 14:55  221340643084   \n",
       "343   2018. 8. 14. 14:19  221338675669   \n",
       "344    2018. 8. 9. 14:00  221335500728   \n",
       "345    2018. 8. 1. 10:30  221330503092   \n",
       "346   2018. 7. 27. 10:26  221327560643   \n",
       "347   2018. 7. 18. 12:08  221321384305   \n",
       "348   2018. 7. 13. 11:33  221318233020   \n",
       "\n",
       "                                                  link  \n",
       "324  https://blog.naver.com/PostView.naver?blogId=y...  \n",
       "325  https://blog.naver.com/PostView.naver?blogId=y...  \n",
       "326  https://blog.naver.com/PostView.naver?blogId=y...  \n",
       "327  https://blog.naver.com/PostView.naver?blogId=y...  \n",
       "328  https://blog.naver.com/PostView.naver?blogId=y...  \n",
       "329  https://blog.naver.com/PostView.naver?blogId=y...  \n",
       "330  https://blog.naver.com/PostView.naver?blogId=y...  \n",
       "331  https://blog.naver.com/PostView.naver?blogId=y...  \n",
       "332  https://blog.naver.com/PostView.naver?blogId=y...  \n",
       "333  https://blog.naver.com/PostView.naver?blogId=y...  \n",
       "334  https://blog.naver.com/PostView.naver?blogId=y...  \n",
       "335  https://blog.naver.com/PostView.naver?blogId=y...  \n",
       "336  https://blog.naver.com/PostView.naver?blogId=y...  \n",
       "337  https://blog.naver.com/PostView.naver?blogId=y...  \n",
       "338  https://blog.naver.com/PostView.naver?blogId=y...  \n",
       "339  https://blog.naver.com/PostView.naver?blogId=y...  \n",
       "340  https://blog.naver.com/PostView.naver?blogId=y...  \n",
       "341  https://blog.naver.com/PostView.naver?blogId=y...  \n",
       "342  https://blog.naver.com/PostView.naver?blogId=y...  \n",
       "343  https://blog.naver.com/PostView.naver?blogId=y...  \n",
       "344  https://blog.naver.com/PostView.naver?blogId=y...  \n",
       "345  https://blog.naver.com/PostView.naver?blogId=y...  \n",
       "346  https://blog.naver.com/PostView.naver?blogId=y...  \n",
       "347  https://blog.naver.com/PostView.naver?blogId=y...  \n",
       "348  https://blog.naver.com/PostView.naver?blogId=y...  "
      ]
     },
     "execution_count": 56,
     "metadata": {},
     "output_type": "execute_result"
    }
   ],
   "source": [
    "life[life['content']=='0']"
   ]
  },
  {
   "cell_type": "code",
   "execution_count": 61,
   "id": "6d7103ae",
   "metadata": {
    "ExecuteTime": {
     "end_time": "2023-07-29T14:27:01.918097Z",
     "start_time": "2023-07-29T14:27:01.906129Z"
    }
   },
   "outputs": [],
   "source": [
    "except_link = life[life['content']=='0']['link']"
   ]
  },
  {
   "cell_type": "code",
   "execution_count": 62,
   "id": "ea72a1bb",
   "metadata": {
    "ExecuteTime": {
     "end_time": "2023-07-29T14:27:13.683655Z",
     "start_time": "2023-07-29T14:27:02.389653Z"
    }
   },
   "outputs": [],
   "source": [
    "content_list = []\n",
    "for link in except_link:\n",
    "    content_list.append(get_blog_post_content(link))"
   ]
  },
  {
   "cell_type": "code",
   "execution_count": 63,
   "id": "b8fd0f4d",
   "metadata": {
    "ExecuteTime": {
     "end_time": "2023-07-29T14:27:13.699615Z",
     "start_time": "2023-07-29T14:27:13.688642Z"
    },
    "scrolled": true
   },
   "outputs": [],
   "source": [
    "life.loc[life['content']=='0', 'content'] = content_list"
   ]
  },
  {
   "cell_type": "code",
   "execution_count": 65,
   "id": "daf0fafe",
   "metadata": {
    "ExecuteTime": {
     "end_time": "2023-07-29T14:27:17.396928Z",
     "start_time": "2023-07-29T14:27:17.343068Z"
    },
    "scrolled": true
   },
   "outputs": [
    {
     "data": {
      "text/html": [
       "<div>\n",
       "<style scoped>\n",
       "    .dataframe tbody tr th:only-of-type {\n",
       "        vertical-align: middle;\n",
       "    }\n",
       "\n",
       "    .dataframe tbody tr th {\n",
       "        vertical-align: top;\n",
       "    }\n",
       "\n",
       "    .dataframe thead th {\n",
       "        text-align: right;\n",
       "    }\n",
       "</style>\n",
       "<table border=\"1\" class=\"dataframe\">\n",
       "  <thead>\n",
       "    <tr style=\"text-align: right;\">\n",
       "      <th></th>\n",
       "      <th>category</th>\n",
       "      <th>title</th>\n",
       "      <th>content</th>\n",
       "      <th>date</th>\n",
       "      <th>logNo</th>\n",
       "      <th>link</th>\n",
       "    </tr>\n",
       "  </thead>\n",
       "  <tbody>\n",
       "    <tr>\n",
       "      <th>0</th>\n",
       "      <td>KB라이프</td>\n",
       "      <td>[KB경영연구소] 애플, 은행이 되고자 하는가?</td>\n",
       "      <td>​ 애플세이빙스의 출시 ​ 애플은 지난 4월 말 골드만삭스와 협력하여 애플세이빙스 ...</td>\n",
       "      <td>2023. 7. 28. 15:00</td>\n",
       "      <td>223168425712</td>\n",
       "      <td>https://blog.naver.com/PostView.naver?blogId=y...</td>\n",
       "    </tr>\n",
       "    <tr>\n",
       "      <th>1</th>\n",
       "      <td>KB라이프</td>\n",
       "      <td>도시 한가운데 양봉장이? 사라져가는 꿀벌을 지켜주세요!</td>\n",
       "      <td>꿀벌이 자취를 감추고 있다는 소식, 들어보셨나요? ​ 2020년 4월부터 2021년...</td>\n",
       "      <td>2023. 7. 21. 11:00</td>\n",
       "      <td>223161279034</td>\n",
       "      <td>https://blog.naver.com/PostView.naver?blogId=y...</td>\n",
       "    </tr>\n",
       "    <tr>\n",
       "      <th>2</th>\n",
       "      <td>KB라이프</td>\n",
       "      <td>지구에도 끝이 있다?! 지구 생태용량 초과의 날</td>\n",
       "      <td>​ 여러분 혹시 지구 생태용량 초과의 날 (Earth Overshoot Day)에 ...</td>\n",
       "      <td>2023. 7. 14. 11:41</td>\n",
       "      <td>223155900654</td>\n",
       "      <td>https://blog.naver.com/PostView.naver?blogId=y...</td>\n",
       "    </tr>\n",
       "    <tr>\n",
       "      <th>3</th>\n",
       "      <td>KB라이프</td>\n",
       "      <td>해외여행 가기 전, KB스타뱅킹에서 나에게 꼭 맞는 환전하세요!</td>\n",
       "      <td>안녕하세요 여러분 최근 코로나19가 줄어들고 휴가철이 다가오면서 다시금 해외로 여행...</td>\n",
       "      <td>2023. 7. 7. 14:40</td>\n",
       "      <td>223149533864</td>\n",
       "      <td>https://blog.naver.com/PostView.naver?blogId=y...</td>\n",
       "    </tr>\n",
       "    <tr>\n",
       "      <th>4</th>\n",
       "      <td>KB라이프</td>\n",
       "      <td>발전기 없는 발전소, 가상발전소(VPP)</td>\n",
       "      <td>​ 발전기 없는 발전소, 가상발전소(VPP) ​ 가상발전소(VPP, Virtual ...</td>\n",
       "      <td>2023. 6. 23. 11:00</td>\n",
       "      <td>223135978051</td>\n",
       "      <td>https://blog.naver.com/PostView.naver?blogId=y...</td>\n",
       "    </tr>\n",
       "    <tr>\n",
       "      <th>...</th>\n",
       "      <td>...</td>\n",
       "      <td>...</td>\n",
       "      <td>...</td>\n",
       "      <td>...</td>\n",
       "      <td>...</td>\n",
       "      <td>...</td>\n",
       "    </tr>\n",
       "    <tr>\n",
       "      <th>344</th>\n",
       "      <td>KB라이프</td>\n",
       "      <td>통학러, 통근러 주목~! 지하철 비용 아끼는 꿀이득 지하철 정기권</td>\n",
       "      <td>회사와 학교를 지하철로 통학, 통근하는 분들에겐 교통비도 만만치 않게 들 텐데요 지...</td>\n",
       "      <td>2018. 8. 9. 14:00</td>\n",
       "      <td>221335500728</td>\n",
       "      <td>https://blog.naver.com/PostView.naver?blogId=y...</td>\n",
       "    </tr>\n",
       "    <tr>\n",
       "      <th>345</th>\n",
       "      <td>KB라이프</td>\n",
       "      <td>자취방 구할 때 이것만은 꼭! 자취방 점검 체크리스트 팁!</td>\n",
       "      <td>첫 직장,&amp;nbsp; 첫 대학교! 꿈에 그리던 서울에 입성했지만 자취방을 구해야 하...</td>\n",
       "      <td>2018. 8. 1. 10:30</td>\n",
       "      <td>221330503092</td>\n",
       "      <td>https://blog.naver.com/PostView.naver?blogId=y...</td>\n",
       "    </tr>\n",
       "    <tr>\n",
       "      <th>346</th>\n",
       "      <td>KB라이프</td>\n",
       "      <td>삼복더위에는 잘 먹고 힘내기! 더위 싹 날아가는 이열치열 복날 보양식!</td>\n",
       "      <td>유난히 덥게 느껴지는 오늘!.. 왜인가 싶었더니, 오늘은 바로 삼복 중 하나인 중복...</td>\n",
       "      <td>2018. 7. 27. 10:26</td>\n",
       "      <td>221327560643</td>\n",
       "      <td>https://blog.naver.com/PostView.naver?blogId=y...</td>\n",
       "    </tr>\n",
       "    <tr>\n",
       "      <th>347</th>\n",
       "      <td>KB라이프</td>\n",
       "      <td>첫 직장, 첫 월급! 사회 초년생들을 위한 돈 관리 꿀팁!</td>\n",
       "      <td>드디어 기다리고 기다리던 첫 월급! 하지만 통장을 스치듯 지나가는 나의 소중한 잔고...</td>\n",
       "      <td>2018. 7. 18. 12:08</td>\n",
       "      <td>221321384305</td>\n",
       "      <td>https://blog.naver.com/PostView.naver?blogId=y...</td>\n",
       "    </tr>\n",
       "    <tr>\n",
       "      <th>348</th>\n",
       "      <td>KB라이프</td>\n",
       "      <td>프로여행러의 여름 해외여행지 추천</td>\n",
       "      <td>세차게 내리는 장맛비를 보니 새삼 여름이라는 게 실감 나네요, 무더위가 걱정되는 한...</td>\n",
       "      <td>2018. 7. 13. 11:33</td>\n",
       "      <td>221318233020</td>\n",
       "      <td>https://blog.naver.com/PostView.naver?blogId=y...</td>\n",
       "    </tr>\n",
       "  </tbody>\n",
       "</table>\n",
       "<p>349 rows × 6 columns</p>\n",
       "</div>"
      ],
      "text/plain": [
       "    category                                    title  \\\n",
       "0      KB라이프               [KB경영연구소] 애플, 은행이 되고자 하는가?   \n",
       "1      KB라이프           도시 한가운데 양봉장이? 사라져가는 꿀벌을 지켜주세요!   \n",
       "2      KB라이프               지구에도 끝이 있다?! 지구 생태용량 초과의 날   \n",
       "3      KB라이프      해외여행 가기 전, KB스타뱅킹에서 나에게 꼭 맞는 환전하세요!   \n",
       "4      KB라이프                   발전기 없는 발전소, 가상발전소(VPP)   \n",
       "..       ...                                      ...   \n",
       "344    KB라이프     통학러, 통근러 주목~! 지하철 비용 아끼는 꿀이득 지하철 정기권   \n",
       "345    KB라이프         자취방 구할 때 이것만은 꼭! 자취방 점검 체크리스트 팁!   \n",
       "346    KB라이프  삼복더위에는 잘 먹고 힘내기! 더위 싹 날아가는 이열치열 복날 보양식!   \n",
       "347    KB라이프         첫 직장, 첫 월급! 사회 초년생들을 위한 돈 관리 꿀팁!   \n",
       "348    KB라이프                       프로여행러의 여름 해외여행지 추천   \n",
       "\n",
       "                                               content                date  \\\n",
       "0    ​ 애플세이빙스의 출시 ​ 애플은 지난 4월 말 골드만삭스와 협력하여 애플세이빙스 ...  2023. 7. 28. 15:00   \n",
       "1    꿀벌이 자취를 감추고 있다는 소식, 들어보셨나요? ​ 2020년 4월부터 2021년...  2023. 7. 21. 11:00   \n",
       "2    ​ 여러분 혹시 지구 생태용량 초과의 날 (Earth Overshoot Day)에 ...  2023. 7. 14. 11:41   \n",
       "3    안녕하세요 여러분 최근 코로나19가 줄어들고 휴가철이 다가오면서 다시금 해외로 여행...   2023. 7. 7. 14:40   \n",
       "4    ​ 발전기 없는 발전소, 가상발전소(VPP) ​ 가상발전소(VPP, Virtual ...  2023. 6. 23. 11:00   \n",
       "..                                                 ...                 ...   \n",
       "344  회사와 학교를 지하철로 통학, 통근하는 분들에겐 교통비도 만만치 않게 들 텐데요 지...   2018. 8. 9. 14:00   \n",
       "345  첫 직장,&nbsp; 첫 대학교! 꿈에 그리던 서울에 입성했지만 자취방을 구해야 하...   2018. 8. 1. 10:30   \n",
       "346  유난히 덥게 느껴지는 오늘!.. 왜인가 싶었더니, 오늘은 바로 삼복 중 하나인 중복...  2018. 7. 27. 10:26   \n",
       "347  드디어 기다리고 기다리던 첫 월급! 하지만 통장을 스치듯 지나가는 나의 소중한 잔고...  2018. 7. 18. 12:08   \n",
       "348  세차게 내리는 장맛비를 보니 새삼 여름이라는 게 실감 나네요, 무더위가 걱정되는 한...  2018. 7. 13. 11:33   \n",
       "\n",
       "            logNo                                               link  \n",
       "0    223168425712  https://blog.naver.com/PostView.naver?blogId=y...  \n",
       "1    223161279034  https://blog.naver.com/PostView.naver?blogId=y...  \n",
       "2    223155900654  https://blog.naver.com/PostView.naver?blogId=y...  \n",
       "3    223149533864  https://blog.naver.com/PostView.naver?blogId=y...  \n",
       "4    223135978051  https://blog.naver.com/PostView.naver?blogId=y...  \n",
       "..            ...                                                ...  \n",
       "344  221335500728  https://blog.naver.com/PostView.naver?blogId=y...  \n",
       "345  221330503092  https://blog.naver.com/PostView.naver?blogId=y...  \n",
       "346  221327560643  https://blog.naver.com/PostView.naver?blogId=y...  \n",
       "347  221321384305  https://blog.naver.com/PostView.naver?blogId=y...  \n",
       "348  221318233020  https://blog.naver.com/PostView.naver?blogId=y...  \n",
       "\n",
       "[349 rows x 6 columns]"
      ]
     },
     "execution_count": 65,
     "metadata": {},
     "output_type": "execute_result"
    }
   ],
   "source": [
    "life"
   ]
  },
  {
   "cell_type": "markdown",
   "id": "bd13bb85",
   "metadata": {},
   "source": [
    "# 저장"
   ]
  },
  {
   "cell_type": "code",
   "execution_count": 66,
   "id": "8072bedc",
   "metadata": {
    "ExecuteTime": {
     "end_time": "2023-07-29T14:28:19.798038Z",
     "start_time": "2023-07-29T14:28:19.606551Z"
    }
   },
   "outputs": [],
   "source": [
    "products.to_csv(\"blog_products_new.csv\", index = False)\n",
    "life.to_csv(\"blog_life_new.csv\", index = False)\n",
    "news.to_csv(\"blog_news_new.csv\", index = False)"
   ]
  },
  {
   "cell_type": "code",
   "execution_count": null,
   "id": "1f965923",
   "metadata": {},
   "outputs": [],
   "source": []
  }
 ],
 "metadata": {
  "kernelspec": {
   "display_name": "Python 3",
   "language": "python",
   "name": "python3"
  },
  "language_info": {
   "codemirror_mode": {
    "name": "ipython",
    "version": 3
   },
   "file_extension": ".py",
   "mimetype": "text/x-python",
   "name": "python",
   "nbconvert_exporter": "python",
   "pygments_lexer": "ipython3",
   "version": "3.7.3"
  },
  "toc": {
   "base_numbering": 1,
   "nav_menu": {},
   "number_sections": false,
   "sideBar": true,
   "skip_h1_title": false,
   "title_cell": "Table of Contents",
   "title_sidebar": "Contents",
   "toc_cell": false,
   "toc_position": {},
   "toc_section_display": true,
   "toc_window_display": false
  }
 },
 "nbformat": 4,
 "nbformat_minor": 5
}
